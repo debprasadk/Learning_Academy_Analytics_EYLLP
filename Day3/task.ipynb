{
 "cells": [
  {
   "cell_type": "code",
   "execution_count": 21,
   "metadata": {},
   "outputs": [],
   "source": [
    "import numpy as np"
   ]
  },
  {
   "cell_type": "markdown",
   "metadata": {},
   "source": [
    "1. Create a null vector of size 10 but the fifth value which is 1 "
   ]
  },
  {
   "cell_type": "code",
   "execution_count": 4,
   "metadata": {},
   "outputs": [
    {
     "name": "stdout",
     "output_type": "stream",
     "text": [
      "[0. 0. 0. 0. 1. 0. 0. 0. 0. 0.]\n"
     ]
    }
   ],
   "source": [
    "a = np.zeros(10)\n",
    "a[4] = 1\n",
    "print(a)"
   ]
  },
  {
   "cell_type": "markdown",
   "metadata": {},
   "source": [
    "Create a vector with values ranging from 10 to 49"
   ]
  },
  {
   "cell_type": "code",
   "execution_count": 5,
   "metadata": {},
   "outputs": [
    {
     "name": "stdout",
     "output_type": "stream",
     "text": [
      "[10 11 12 13 14 15 16 17 18 19 20 21 22 23 24 25 26 27 28 29 30 31 32 33\n",
      " 34 35 36 37 38 39 40 41 42 43 44 45 46 47 48]\n"
     ]
    }
   ],
   "source": [
    "v = np.arange(10,49)\n",
    "print(v)"
   ]
  },
  {
   "cell_type": "markdown",
   "metadata": {},
   "source": [
    "Reverse a vector"
   ]
  },
  {
   "cell_type": "code",
   "execution_count": 6,
   "metadata": {},
   "outputs": [
    {
     "name": "stdout",
     "output_type": "stream",
     "text": [
      "[48 47 46 45 44 43 42 41 40 39 38 37 36 35 34 33 32 31 30 29 28 27 26 25\n",
      " 24 23 22 21 20 19 18 17 16 15 14 13 12 11 10]\n"
     ]
    }
   ],
   "source": [
    "v = np.arange(10,49)\n",
    "u = np.flip(v)\n",
    "print(u)"
   ]
  },
  {
   "cell_type": "markdown",
   "metadata": {},
   "source": [
    "Create a 3x3 matrix with values ranging from 0 to 8"
   ]
  },
  {
   "cell_type": "code",
   "execution_count": 8,
   "metadata": {},
   "outputs": [
    {
     "name": "stdout",
     "output_type": "stream",
     "text": [
      "[[0 1 2]\n",
      " [3 4 5]\n",
      " [6 7 8]]\n"
     ]
    }
   ],
   "source": [
    "b = np.arange(0, 9).reshape(3,3)\n",
    "print(b)"
   ]
  },
  {
   "cell_type": "markdown",
   "metadata": {},
   "source": [
    "Find indices of non-zero elements from [1,2,0,0,4,0]"
   ]
  },
  {
   "cell_type": "code",
   "execution_count": 11,
   "metadata": {},
   "outputs": [
    {
     "name": "stdout",
     "output_type": "stream",
     "text": [
      "(array([0, 1, 4]),)\n"
     ]
    }
   ],
   "source": [
    "a = np.array([1,2,0,0,4,0])\n",
    "b = np.where(a != 0)\n",
    "print(b)"
   ]
  },
  {
   "cell_type": "markdown",
   "metadata": {},
   "source": [
    "Create a 3x3x3 array with random values"
   ]
  },
  {
   "cell_type": "code",
   "execution_count": 13,
   "metadata": {},
   "outputs": [
    {
     "name": "stdout",
     "output_type": "stream",
     "text": [
      "[[[0.79843445 0.59423366 0.60388713]\n",
      "  [0.83899686 0.34261535 0.50723043]\n",
      "  [0.52348508 0.4005433  0.84620383]]\n",
      "\n",
      " [[0.06131303 0.9040484  0.98708115]\n",
      "  [0.80829748 0.57571922 0.37547093]\n",
      "  [0.51457742 0.25530365 0.26132463]]\n",
      "\n",
      " [[0.13546369 0.5424065  0.49947101]\n",
      "  [0.32133099 0.56263228 0.90927745]\n",
      "  [0.61968635 0.11066393 0.33313931]]]\n"
     ]
    }
   ],
   "source": [
    "a = np.random.rand(3,3,3)\n",
    "print(a)"
   ]
  },
  {
   "cell_type": "markdown",
   "metadata": {},
   "source": [
    "Create a 10x10 array with random values and find the minimum and maximum values"
   ]
  },
  {
   "cell_type": "code",
   "execution_count": 16,
   "metadata": {},
   "outputs": [
    {
     "name": "stdout",
     "output_type": "stream",
     "text": [
      "[[0.05668083 0.252943   0.91620089 0.81332308 0.2438134  0.28542266\n",
      "  0.29379378 0.21376938 0.15937533 0.41082377]\n",
      " [0.61443027 0.00944793 0.19775833 0.47814525 0.26529871 0.61601857\n",
      "  0.31659568 0.29927238 0.20988213 0.28745423]\n",
      " [0.1162705  0.30114295 0.80328729 0.50850871 0.06002621 0.39223532\n",
      "  0.48341869 0.21337339 0.89762602 0.5779776 ]\n",
      " [0.00705982 0.90001713 0.7243946  0.66775187 0.4767988  0.73990719\n",
      "  0.29306129 0.62352494 0.76352584 0.56527633]\n",
      " [0.32707108 0.22398918 0.92108387 0.93318214 0.49864343 0.97586444\n",
      "  0.02138861 0.92659932 0.99909658 0.69620017]\n",
      " [0.20172781 0.87883822 0.01658292 0.29022169 0.82268635 0.64523494\n",
      "  0.35255951 0.80596451 0.13285996 0.3028102 ]\n",
      " [0.66890123 0.62460459 0.62688675 0.68697041 0.84350301 0.91894357\n",
      "  0.03724004 0.62857788 0.87463543 0.06331537]\n",
      " [0.08652242 0.01371651 0.93722314 0.55446512 0.47781721 0.30116228\n",
      "  0.96339672 0.28714136 0.1619029  0.68992872]\n",
      " [0.76755619 0.4857114  0.80355354 0.22292782 0.94694762 0.30761839\n",
      "  0.97673386 0.08266795 0.35897194 0.39833872]\n",
      " [0.66252826 0.36786174 0.86385331 0.54629758 0.9492916  0.08606704\n",
      "  0.13306851 0.65777627 0.80823565 0.92217403]]\n",
      "large: 0.9990965757555607 Small: 0.007059818852500732\n"
     ]
    }
   ],
   "source": [
    "a = np.random.rand(10, 10)\n",
    "s, l = np.min(a), np.max(a)\n",
    "print(a)\n",
    "print('large:', l, 'Small:', s)"
   ]
  },
  {
   "cell_type": "markdown",
   "metadata": {},
   "source": [
    "Create a 2d array with 1 on the border and 0 inside"
   ]
  },
  {
   "cell_type": "code",
   "execution_count": 19,
   "metadata": {},
   "outputs": [
    {
     "name": "stdout",
     "output_type": "stream",
     "text": [
      "[[1 1 1 1]\n",
      " [1 0 0 1]\n",
      " [1 0 0 1]\n",
      " [1 1 1 1]]\n"
     ]
    }
   ],
   "source": [
    "a = np.ones((4, 4), dtype = 'int')\n",
    "a[1:-1, 1:-1] = 0\n",
    "print(a)"
   ]
  },
  {
   "cell_type": "code",
   "execution_count": null,
   "metadata": {},
   "outputs": [],
   "source": []
  }
 ],
 "metadata": {
  "kernelspec": {
   "display_name": "Python 3",
   "language": "python",
   "name": "python3"
  },
  "language_info": {
   "codemirror_mode": {
    "name": "ipython",
    "version": 3
   },
   "file_extension": ".py",
   "mimetype": "text/x-python",
   "name": "python",
   "nbconvert_exporter": "python",
   "pygments_lexer": "ipython3",
   "version": "3.7.6"
  }
 },
 "nbformat": 4,
 "nbformat_minor": 4
}

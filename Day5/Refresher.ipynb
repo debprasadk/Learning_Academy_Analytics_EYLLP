{
 "cells": [
  {
   "cell_type": "code",
   "execution_count": 1,
   "id": "89ada5ac-9999-4f1c-a076-4cf25a2d7ecf",
   "metadata": {},
   "outputs": [],
   "source": [
    "import numpy as np\n",
    "import pandas as pd\n",
    "import seaborn as sns\n",
    "import matplotlib.pyplot as plt\n",
    "%matplotlib inline"
   ]
  },
  {
   "cell_type": "code",
   "execution_count": 2,
   "id": "076b1fde-e7cf-43a7-b967-cee2fe1abd6f",
   "metadata": {},
   "outputs": [
    {
     "data": {
      "text/html": [
       "<div>\n",
       "<style scoped>\n",
       "    .dataframe tbody tr th:only-of-type {\n",
       "        vertical-align: middle;\n",
       "    }\n",
       "\n",
       "    .dataframe tbody tr th {\n",
       "        vertical-align: top;\n",
       "    }\n",
       "\n",
       "    .dataframe thead th {\n",
       "        text-align: right;\n",
       "    }\n",
       "</style>\n",
       "<table border=\"1\" class=\"dataframe\">\n",
       "  <thead>\n",
       "    <tr style=\"text-align: right;\">\n",
       "      <th></th>\n",
       "      <th>WEAPON SOURCE COUNTRY</th>\n",
       "      <th>WEAPON DEPLOYMENT LOCATION</th>\n",
       "      <th>Data.Source</th>\n",
       "      <th>Location.Cordinates.Latitude</th>\n",
       "      <th>Location.Cordinates.Longitude</th>\n",
       "      <th>Data.Magnitude.Body</th>\n",
       "      <th>Data.Magnitude.Surface</th>\n",
       "      <th>Location.Cordinates.Depth</th>\n",
       "      <th>Data.Yeild.Lower</th>\n",
       "      <th>Data.Yeild.Upper</th>\n",
       "      <th>Data.Purpose</th>\n",
       "      <th>Data.Name</th>\n",
       "      <th>Data.Type</th>\n",
       "      <th>Date.Day</th>\n",
       "      <th>Date.Month</th>\n",
       "      <th>Date.Year</th>\n",
       "    </tr>\n",
       "  </thead>\n",
       "  <tbody>\n",
       "    <tr>\n",
       "      <th>0</th>\n",
       "      <td>USA</td>\n",
       "      <td>Alamogordo</td>\n",
       "      <td>DOE</td>\n",
       "      <td>32.54</td>\n",
       "      <td>-105.57</td>\n",
       "      <td>0.0</td>\n",
       "      <td>0.0</td>\n",
       "      <td>-0.10</td>\n",
       "      <td>21.0</td>\n",
       "      <td>21.0</td>\n",
       "      <td>Wr</td>\n",
       "      <td>Trinity</td>\n",
       "      <td>Tower</td>\n",
       "      <td>16</td>\n",
       "      <td>7</td>\n",
       "      <td>1945</td>\n",
       "    </tr>\n",
       "    <tr>\n",
       "      <th>1</th>\n",
       "      <td>USA</td>\n",
       "      <td>Hiroshima</td>\n",
       "      <td>DOE</td>\n",
       "      <td>34.23</td>\n",
       "      <td>132.27</td>\n",
       "      <td>0.0</td>\n",
       "      <td>0.0</td>\n",
       "      <td>-0.60</td>\n",
       "      <td>15.0</td>\n",
       "      <td>15.0</td>\n",
       "      <td>Combat</td>\n",
       "      <td>Littleboy</td>\n",
       "      <td>Airdrop</td>\n",
       "      <td>5</td>\n",
       "      <td>8</td>\n",
       "      <td>1945</td>\n",
       "    </tr>\n",
       "    <tr>\n",
       "      <th>2</th>\n",
       "      <td>USA</td>\n",
       "      <td>Nagasaki</td>\n",
       "      <td>DOE</td>\n",
       "      <td>32.45</td>\n",
       "      <td>129.52</td>\n",
       "      <td>0.0</td>\n",
       "      <td>0.0</td>\n",
       "      <td>-0.60</td>\n",
       "      <td>21.0</td>\n",
       "      <td>21.0</td>\n",
       "      <td>Combat</td>\n",
       "      <td>Fatman</td>\n",
       "      <td>Airdrop</td>\n",
       "      <td>9</td>\n",
       "      <td>8</td>\n",
       "      <td>1945</td>\n",
       "    </tr>\n",
       "    <tr>\n",
       "      <th>3</th>\n",
       "      <td>USA</td>\n",
       "      <td>Bikini</td>\n",
       "      <td>DOE</td>\n",
       "      <td>11.35</td>\n",
       "      <td>165.20</td>\n",
       "      <td>0.0</td>\n",
       "      <td>0.0</td>\n",
       "      <td>-0.20</td>\n",
       "      <td>21.0</td>\n",
       "      <td>21.0</td>\n",
       "      <td>We</td>\n",
       "      <td>Able</td>\n",
       "      <td>Airdrop</td>\n",
       "      <td>30</td>\n",
       "      <td>6</td>\n",
       "      <td>1946</td>\n",
       "    </tr>\n",
       "    <tr>\n",
       "      <th>4</th>\n",
       "      <td>USA</td>\n",
       "      <td>Bikini</td>\n",
       "      <td>DOE</td>\n",
       "      <td>11.35</td>\n",
       "      <td>165.20</td>\n",
       "      <td>0.0</td>\n",
       "      <td>0.0</td>\n",
       "      <td>0.03</td>\n",
       "      <td>21.0</td>\n",
       "      <td>21.0</td>\n",
       "      <td>We</td>\n",
       "      <td>Baker</td>\n",
       "      <td>Uw</td>\n",
       "      <td>24</td>\n",
       "      <td>7</td>\n",
       "      <td>1946</td>\n",
       "    </tr>\n",
       "  </tbody>\n",
       "</table>\n",
       "</div>"
      ],
      "text/plain": [
       "  WEAPON SOURCE COUNTRY WEAPON DEPLOYMENT LOCATION Data.Source  \\\n",
       "0                   USA                 Alamogordo         DOE   \n",
       "1                   USA                  Hiroshima         DOE   \n",
       "2                   USA                   Nagasaki         DOE   \n",
       "3                   USA                     Bikini         DOE   \n",
       "4                   USA                     Bikini         DOE   \n",
       "\n",
       "   Location.Cordinates.Latitude  Location.Cordinates.Longitude  \\\n",
       "0                         32.54                        -105.57   \n",
       "1                         34.23                         132.27   \n",
       "2                         32.45                         129.52   \n",
       "3                         11.35                         165.20   \n",
       "4                         11.35                         165.20   \n",
       "\n",
       "   Data.Magnitude.Body  Data.Magnitude.Surface  Location.Cordinates.Depth  \\\n",
       "0                  0.0                     0.0                      -0.10   \n",
       "1                  0.0                     0.0                      -0.60   \n",
       "2                  0.0                     0.0                      -0.60   \n",
       "3                  0.0                     0.0                      -0.20   \n",
       "4                  0.0                     0.0                       0.03   \n",
       "\n",
       "   Data.Yeild.Lower  Data.Yeild.Upper Data.Purpose  Data.Name Data.Type  \\\n",
       "0              21.0              21.0           Wr    Trinity     Tower   \n",
       "1              15.0              15.0       Combat  Littleboy   Airdrop   \n",
       "2              21.0              21.0       Combat     Fatman   Airdrop   \n",
       "3              21.0              21.0           We       Able   Airdrop   \n",
       "4              21.0              21.0           We      Baker        Uw   \n",
       "\n",
       "   Date.Day  Date.Month  Date.Year  \n",
       "0        16           7       1945  \n",
       "1         5           8       1945  \n",
       "2         9           8       1945  \n",
       "3        30           6       1946  \n",
       "4        24           7       1946  "
      ]
     },
     "execution_count": 2,
     "metadata": {},
     "output_type": "execute_result"
    }
   ],
   "source": [
    "explossion = pd.read_csv(\"nuclear_explosions.csv\")\n",
    "explossion.head()"
   ]
  },
  {
   "cell_type": "markdown",
   "id": "6f410b24-ea7c-4221-a29e-5d7dc2427f90",
   "metadata": {},
   "source": [
    "Print the columns of the data"
   ]
  },
  {
   "cell_type": "code",
   "execution_count": 3,
   "id": "4dc80467-f983-4a9a-97dc-3731dfccd8c7",
   "metadata": {},
   "outputs": [
    {
     "data": {
      "text/plain": [
       "Index(['WEAPON SOURCE COUNTRY', 'WEAPON DEPLOYMENT LOCATION', 'Data.Source',\n",
       "       'Location.Cordinates.Latitude', 'Location.Cordinates.Longitude',\n",
       "       'Data.Magnitude.Body', 'Data.Magnitude.Surface',\n",
       "       'Location.Cordinates.Depth', 'Data.Yeild.Lower', 'Data.Yeild.Upper',\n",
       "       'Data.Purpose', 'Data.Name', 'Data.Type', 'Date.Day', 'Date.Month',\n",
       "       'Date.Year'],\n",
       "      dtype='object')"
      ]
     },
     "execution_count": 3,
     "metadata": {},
     "output_type": "execute_result"
    }
   ],
   "source": [
    "explossion.columns"
   ]
  },
  {
   "cell_type": "markdown",
   "id": "981a815f-352c-4436-849c-fa87ad610797",
   "metadata": {},
   "source": [
    "Rename the columns which is more relatable according to you"
   ]
  },
  {
   "cell_type": "code",
   "execution_count": 4,
   "id": "886d36dc-9411-4507-8788-70ff00a4405e",
   "metadata": {},
   "outputs": [
    {
     "data": {
      "text/html": [
       "<div>\n",
       "<style scoped>\n",
       "    .dataframe tbody tr th:only-of-type {\n",
       "        vertical-align: middle;\n",
       "    }\n",
       "\n",
       "    .dataframe tbody tr th {\n",
       "        vertical-align: top;\n",
       "    }\n",
       "\n",
       "    .dataframe thead th {\n",
       "        text-align: right;\n",
       "    }\n",
       "</style>\n",
       "<table border=\"1\" class=\"dataframe\">\n",
       "  <thead>\n",
       "    <tr style=\"text-align: right;\">\n",
       "      <th></th>\n",
       "      <th>SOURCE COUNTRY</th>\n",
       "      <th>DEPLOYMENT LOCATION</th>\n",
       "      <th>Data.Source</th>\n",
       "      <th>Latitude</th>\n",
       "      <th>Longitude</th>\n",
       "      <th>Data.Magnitude.Body</th>\n",
       "      <th>Data.Magnitude.Surface</th>\n",
       "      <th>Location.Cordinates.Depth</th>\n",
       "      <th>Data.Yeild.Lower</th>\n",
       "      <th>Data.Yeild.Upper</th>\n",
       "      <th>Data.Purpose</th>\n",
       "      <th>Data.Name</th>\n",
       "      <th>Data.Type</th>\n",
       "      <th>Day</th>\n",
       "      <th>Month</th>\n",
       "      <th>Year</th>\n",
       "    </tr>\n",
       "  </thead>\n",
       "  <tbody>\n",
       "    <tr>\n",
       "      <th>0</th>\n",
       "      <td>USA</td>\n",
       "      <td>Alamogordo</td>\n",
       "      <td>DOE</td>\n",
       "      <td>32.54</td>\n",
       "      <td>-105.57</td>\n",
       "      <td>0.0</td>\n",
       "      <td>0.0</td>\n",
       "      <td>-0.10</td>\n",
       "      <td>21.0</td>\n",
       "      <td>21.0</td>\n",
       "      <td>Wr</td>\n",
       "      <td>Trinity</td>\n",
       "      <td>Tower</td>\n",
       "      <td>16</td>\n",
       "      <td>7</td>\n",
       "      <td>1945</td>\n",
       "    </tr>\n",
       "    <tr>\n",
       "      <th>1</th>\n",
       "      <td>USA</td>\n",
       "      <td>Hiroshima</td>\n",
       "      <td>DOE</td>\n",
       "      <td>34.23</td>\n",
       "      <td>132.27</td>\n",
       "      <td>0.0</td>\n",
       "      <td>0.0</td>\n",
       "      <td>-0.60</td>\n",
       "      <td>15.0</td>\n",
       "      <td>15.0</td>\n",
       "      <td>Combat</td>\n",
       "      <td>Littleboy</td>\n",
       "      <td>Airdrop</td>\n",
       "      <td>5</td>\n",
       "      <td>8</td>\n",
       "      <td>1945</td>\n",
       "    </tr>\n",
       "    <tr>\n",
       "      <th>2</th>\n",
       "      <td>USA</td>\n",
       "      <td>Nagasaki</td>\n",
       "      <td>DOE</td>\n",
       "      <td>32.45</td>\n",
       "      <td>129.52</td>\n",
       "      <td>0.0</td>\n",
       "      <td>0.0</td>\n",
       "      <td>-0.60</td>\n",
       "      <td>21.0</td>\n",
       "      <td>21.0</td>\n",
       "      <td>Combat</td>\n",
       "      <td>Fatman</td>\n",
       "      <td>Airdrop</td>\n",
       "      <td>9</td>\n",
       "      <td>8</td>\n",
       "      <td>1945</td>\n",
       "    </tr>\n",
       "    <tr>\n",
       "      <th>3</th>\n",
       "      <td>USA</td>\n",
       "      <td>Bikini</td>\n",
       "      <td>DOE</td>\n",
       "      <td>11.35</td>\n",
       "      <td>165.20</td>\n",
       "      <td>0.0</td>\n",
       "      <td>0.0</td>\n",
       "      <td>-0.20</td>\n",
       "      <td>21.0</td>\n",
       "      <td>21.0</td>\n",
       "      <td>We</td>\n",
       "      <td>Able</td>\n",
       "      <td>Airdrop</td>\n",
       "      <td>30</td>\n",
       "      <td>6</td>\n",
       "      <td>1946</td>\n",
       "    </tr>\n",
       "    <tr>\n",
       "      <th>4</th>\n",
       "      <td>USA</td>\n",
       "      <td>Bikini</td>\n",
       "      <td>DOE</td>\n",
       "      <td>11.35</td>\n",
       "      <td>165.20</td>\n",
       "      <td>0.0</td>\n",
       "      <td>0.0</td>\n",
       "      <td>0.03</td>\n",
       "      <td>21.0</td>\n",
       "      <td>21.0</td>\n",
       "      <td>We</td>\n",
       "      <td>Baker</td>\n",
       "      <td>Uw</td>\n",
       "      <td>24</td>\n",
       "      <td>7</td>\n",
       "      <td>1946</td>\n",
       "    </tr>\n",
       "    <tr>\n",
       "      <th>...</th>\n",
       "      <td>...</td>\n",
       "      <td>...</td>\n",
       "      <td>...</td>\n",
       "      <td>...</td>\n",
       "      <td>...</td>\n",
       "      <td>...</td>\n",
       "      <td>...</td>\n",
       "      <td>...</td>\n",
       "      <td>...</td>\n",
       "      <td>...</td>\n",
       "      <td>...</td>\n",
       "      <td>...</td>\n",
       "      <td>...</td>\n",
       "      <td>...</td>\n",
       "      <td>...</td>\n",
       "      <td>...</td>\n",
       "    </tr>\n",
       "    <tr>\n",
       "      <th>2041</th>\n",
       "      <td>CHINA</td>\n",
       "      <td>Lop Nor</td>\n",
       "      <td>HFS</td>\n",
       "      <td>41.69</td>\n",
       "      <td>88.35</td>\n",
       "      <td>5.3</td>\n",
       "      <td>0.0</td>\n",
       "      <td>0.00</td>\n",
       "      <td>3.0</td>\n",
       "      <td>12.0</td>\n",
       "      <td>Wr</td>\n",
       "      <td>Nan</td>\n",
       "      <td>Ug</td>\n",
       "      <td>29</td>\n",
       "      <td>7</td>\n",
       "      <td>1996</td>\n",
       "    </tr>\n",
       "    <tr>\n",
       "      <th>2042</th>\n",
       "      <td>INDIA</td>\n",
       "      <td>Pokhran</td>\n",
       "      <td>HFS</td>\n",
       "      <td>27.07</td>\n",
       "      <td>71.70</td>\n",
       "      <td>5.3</td>\n",
       "      <td>0.0</td>\n",
       "      <td>0.00</td>\n",
       "      <td>0.0</td>\n",
       "      <td>20.0</td>\n",
       "      <td>Wr</td>\n",
       "      <td>Shakti 1-3</td>\n",
       "      <td>Ug</td>\n",
       "      <td>11</td>\n",
       "      <td>5</td>\n",
       "      <td>1998</td>\n",
       "    </tr>\n",
       "    <tr>\n",
       "      <th>2043</th>\n",
       "      <td>INDIA</td>\n",
       "      <td>Pokhran</td>\n",
       "      <td>NRD</td>\n",
       "      <td>27.07</td>\n",
       "      <td>71.70</td>\n",
       "      <td>0.0</td>\n",
       "      <td>0.0</td>\n",
       "      <td>0.00</td>\n",
       "      <td>0.0</td>\n",
       "      <td>1.0</td>\n",
       "      <td>Wr</td>\n",
       "      <td>Nan</td>\n",
       "      <td>Ug</td>\n",
       "      <td>13</td>\n",
       "      <td>5</td>\n",
       "      <td>1998</td>\n",
       "    </tr>\n",
       "    <tr>\n",
       "      <th>2044</th>\n",
       "      <td>PAKIST</td>\n",
       "      <td>Chagai</td>\n",
       "      <td>HFS</td>\n",
       "      <td>28.90</td>\n",
       "      <td>64.89</td>\n",
       "      <td>0.0</td>\n",
       "      <td>0.0</td>\n",
       "      <td>0.00</td>\n",
       "      <td>0.0</td>\n",
       "      <td>35.0</td>\n",
       "      <td>Wr</td>\n",
       "      <td>Nan</td>\n",
       "      <td>Ug</td>\n",
       "      <td>28</td>\n",
       "      <td>5</td>\n",
       "      <td>1998</td>\n",
       "    </tr>\n",
       "    <tr>\n",
       "      <th>2045</th>\n",
       "      <td>PAKIST</td>\n",
       "      <td>Kharan</td>\n",
       "      <td>HFS</td>\n",
       "      <td>28.49</td>\n",
       "      <td>63.78</td>\n",
       "      <td>5.0</td>\n",
       "      <td>0.0</td>\n",
       "      <td>0.00</td>\n",
       "      <td>0.0</td>\n",
       "      <td>18.0</td>\n",
       "      <td>Wr</td>\n",
       "      <td>Nan</td>\n",
       "      <td>Ug</td>\n",
       "      <td>30</td>\n",
       "      <td>5</td>\n",
       "      <td>1998</td>\n",
       "    </tr>\n",
       "  </tbody>\n",
       "</table>\n",
       "<p>2046 rows × 16 columns</p>\n",
       "</div>"
      ],
      "text/plain": [
       "     SOURCE COUNTRY DEPLOYMENT LOCATION Data.Source  Latitude  Longitude  \\\n",
       "0               USA          Alamogordo         DOE     32.54    -105.57   \n",
       "1               USA           Hiroshima         DOE     34.23     132.27   \n",
       "2               USA            Nagasaki         DOE     32.45     129.52   \n",
       "3               USA              Bikini         DOE     11.35     165.20   \n",
       "4               USA              Bikini         DOE     11.35     165.20   \n",
       "...             ...                 ...         ...       ...        ...   \n",
       "2041          CHINA             Lop Nor         HFS     41.69      88.35   \n",
       "2042          INDIA             Pokhran         HFS     27.07      71.70   \n",
       "2043          INDIA             Pokhran         NRD     27.07      71.70   \n",
       "2044         PAKIST              Chagai         HFS     28.90      64.89   \n",
       "2045         PAKIST              Kharan         HFS     28.49      63.78   \n",
       "\n",
       "      Data.Magnitude.Body  Data.Magnitude.Surface  Location.Cordinates.Depth  \\\n",
       "0                     0.0                     0.0                      -0.10   \n",
       "1                     0.0                     0.0                      -0.60   \n",
       "2                     0.0                     0.0                      -0.60   \n",
       "3                     0.0                     0.0                      -0.20   \n",
       "4                     0.0                     0.0                       0.03   \n",
       "...                   ...                     ...                        ...   \n",
       "2041                  5.3                     0.0                       0.00   \n",
       "2042                  5.3                     0.0                       0.00   \n",
       "2043                  0.0                     0.0                       0.00   \n",
       "2044                  0.0                     0.0                       0.00   \n",
       "2045                  5.0                     0.0                       0.00   \n",
       "\n",
       "      Data.Yeild.Lower  Data.Yeild.Upper Data.Purpose   Data.Name Data.Type  \\\n",
       "0                 21.0              21.0           Wr     Trinity     Tower   \n",
       "1                 15.0              15.0       Combat   Littleboy   Airdrop   \n",
       "2                 21.0              21.0       Combat      Fatman   Airdrop   \n",
       "3                 21.0              21.0           We        Able   Airdrop   \n",
       "4                 21.0              21.0           We       Baker        Uw   \n",
       "...                ...               ...          ...         ...       ...   \n",
       "2041               3.0              12.0           Wr         Nan        Ug   \n",
       "2042               0.0              20.0           Wr  Shakti 1-3        Ug   \n",
       "2043               0.0               1.0           Wr         Nan        Ug   \n",
       "2044               0.0              35.0           Wr         Nan        Ug   \n",
       "2045               0.0              18.0           Wr         Nan        Ug   \n",
       "\n",
       "      Day  Month  Year  \n",
       "0      16      7  1945  \n",
       "1       5      8  1945  \n",
       "2       9      8  1945  \n",
       "3      30      6  1946  \n",
       "4      24      7  1946  \n",
       "...   ...    ...   ...  \n",
       "2041   29      7  1996  \n",
       "2042   11      5  1998  \n",
       "2043   13      5  1998  \n",
       "2044   28      5  1998  \n",
       "2045   30      5  1998  \n",
       "\n",
       "[2046 rows x 16 columns]"
      ]
     },
     "execution_count": 4,
     "metadata": {},
     "output_type": "execute_result"
    }
   ],
   "source": [
    "explossion.rename({'WEAPON SOURCE COUNTRY' : 'SOURCE COUNTRY',\n",
    "                   'WEAPON DEPLOYMENT LOCATION' : 'DEPLOYMENT LOCATION',\n",
    "                   'Location.Cordinates.Latitude' : 'Latitude',\n",
    "                   'Location.Cordinates.Longitude' : 'Longitude',\n",
    "                   'Date.Day' : 'Day',\n",
    "                   'Date.Month' : 'Month',\n",
    "                   'Date.Year' : 'Year'}, axis='columns', inplace = True)\n",
    "explossion"
   ]
  },
  {
   "cell_type": "code",
   "execution_count": 5,
   "id": "3e14c7b8-b86e-4e77-a681-2d2c44e1c01a",
   "metadata": {},
   "outputs": [
    {
     "data": {
      "text/plain": [
       "Index(['SOURCE COUNTRY', 'DEPLOYMENT LOCATION', 'Data.Source', 'Latitude',\n",
       "       'Longitude', 'Data.Magnitude.Body', 'Data.Magnitude.Surface',\n",
       "       'Location.Cordinates.Depth', 'Data.Yeild.Lower', 'Data.Yeild.Upper',\n",
       "       'Data.Purpose', 'Data.Name', 'Data.Type', 'Day', 'Month', 'Year'],\n",
       "      dtype='object')"
      ]
     },
     "execution_count": 5,
     "metadata": {},
     "output_type": "execute_result"
    }
   ],
   "source": [
    "explossion.columns"
   ]
  },
  {
   "cell_type": "markdown",
   "id": "0ad9fb12-6b4f-4ae9-88af-ad2bf9a0a331",
   "metadata": {},
   "source": [
    "Check for missing values (presence and sum) (Some values are in string “NAN” format)"
   ]
  },
  {
   "cell_type": "code",
   "execution_count": 6,
   "id": "8ba9e835-9b8e-4e0b-aba1-876eaa71b7f0",
   "metadata": {},
   "outputs": [
    {
     "data": {
      "text/html": [
       "<div>\n",
       "<style scoped>\n",
       "    .dataframe tbody tr th:only-of-type {\n",
       "        vertical-align: middle;\n",
       "    }\n",
       "\n",
       "    .dataframe tbody tr th {\n",
       "        vertical-align: top;\n",
       "    }\n",
       "\n",
       "    .dataframe thead th {\n",
       "        text-align: right;\n",
       "    }\n",
       "</style>\n",
       "<table border=\"1\" class=\"dataframe\">\n",
       "  <thead>\n",
       "    <tr style=\"text-align: right;\">\n",
       "      <th></th>\n",
       "      <th>SOURCE COUNTRY</th>\n",
       "      <th>DEPLOYMENT LOCATION</th>\n",
       "      <th>Data.Source</th>\n",
       "      <th>Latitude</th>\n",
       "      <th>Longitude</th>\n",
       "      <th>Data.Magnitude.Body</th>\n",
       "      <th>Data.Magnitude.Surface</th>\n",
       "      <th>Location.Cordinates.Depth</th>\n",
       "      <th>Data.Yeild.Lower</th>\n",
       "      <th>Data.Yeild.Upper</th>\n",
       "      <th>Data.Purpose</th>\n",
       "      <th>Data.Name</th>\n",
       "      <th>Data.Type</th>\n",
       "      <th>Day</th>\n",
       "      <th>Month</th>\n",
       "      <th>Year</th>\n",
       "    </tr>\n",
       "  </thead>\n",
       "  <tbody>\n",
       "    <tr>\n",
       "      <th>0</th>\n",
       "      <td>False</td>\n",
       "      <td>False</td>\n",
       "      <td>False</td>\n",
       "      <td>False</td>\n",
       "      <td>False</td>\n",
       "      <td>False</td>\n",
       "      <td>False</td>\n",
       "      <td>False</td>\n",
       "      <td>False</td>\n",
       "      <td>False</td>\n",
       "      <td>False</td>\n",
       "      <td>False</td>\n",
       "      <td>False</td>\n",
       "      <td>False</td>\n",
       "      <td>False</td>\n",
       "      <td>False</td>\n",
       "    </tr>\n",
       "    <tr>\n",
       "      <th>1</th>\n",
       "      <td>False</td>\n",
       "      <td>False</td>\n",
       "      <td>False</td>\n",
       "      <td>False</td>\n",
       "      <td>False</td>\n",
       "      <td>False</td>\n",
       "      <td>False</td>\n",
       "      <td>False</td>\n",
       "      <td>False</td>\n",
       "      <td>False</td>\n",
       "      <td>False</td>\n",
       "      <td>False</td>\n",
       "      <td>False</td>\n",
       "      <td>False</td>\n",
       "      <td>False</td>\n",
       "      <td>False</td>\n",
       "    </tr>\n",
       "    <tr>\n",
       "      <th>2</th>\n",
       "      <td>False</td>\n",
       "      <td>False</td>\n",
       "      <td>False</td>\n",
       "      <td>False</td>\n",
       "      <td>False</td>\n",
       "      <td>False</td>\n",
       "      <td>False</td>\n",
       "      <td>False</td>\n",
       "      <td>False</td>\n",
       "      <td>False</td>\n",
       "      <td>False</td>\n",
       "      <td>False</td>\n",
       "      <td>False</td>\n",
       "      <td>False</td>\n",
       "      <td>False</td>\n",
       "      <td>False</td>\n",
       "    </tr>\n",
       "    <tr>\n",
       "      <th>3</th>\n",
       "      <td>False</td>\n",
       "      <td>False</td>\n",
       "      <td>False</td>\n",
       "      <td>False</td>\n",
       "      <td>False</td>\n",
       "      <td>False</td>\n",
       "      <td>False</td>\n",
       "      <td>False</td>\n",
       "      <td>False</td>\n",
       "      <td>False</td>\n",
       "      <td>False</td>\n",
       "      <td>False</td>\n",
       "      <td>False</td>\n",
       "      <td>False</td>\n",
       "      <td>False</td>\n",
       "      <td>False</td>\n",
       "    </tr>\n",
       "    <tr>\n",
       "      <th>4</th>\n",
       "      <td>False</td>\n",
       "      <td>False</td>\n",
       "      <td>False</td>\n",
       "      <td>False</td>\n",
       "      <td>False</td>\n",
       "      <td>False</td>\n",
       "      <td>False</td>\n",
       "      <td>False</td>\n",
       "      <td>False</td>\n",
       "      <td>False</td>\n",
       "      <td>False</td>\n",
       "      <td>False</td>\n",
       "      <td>False</td>\n",
       "      <td>False</td>\n",
       "      <td>False</td>\n",
       "      <td>False</td>\n",
       "    </tr>\n",
       "    <tr>\n",
       "      <th>...</th>\n",
       "      <td>...</td>\n",
       "      <td>...</td>\n",
       "      <td>...</td>\n",
       "      <td>...</td>\n",
       "      <td>...</td>\n",
       "      <td>...</td>\n",
       "      <td>...</td>\n",
       "      <td>...</td>\n",
       "      <td>...</td>\n",
       "      <td>...</td>\n",
       "      <td>...</td>\n",
       "      <td>...</td>\n",
       "      <td>...</td>\n",
       "      <td>...</td>\n",
       "      <td>...</td>\n",
       "      <td>...</td>\n",
       "    </tr>\n",
       "    <tr>\n",
       "      <th>2041</th>\n",
       "      <td>False</td>\n",
       "      <td>False</td>\n",
       "      <td>False</td>\n",
       "      <td>False</td>\n",
       "      <td>False</td>\n",
       "      <td>False</td>\n",
       "      <td>False</td>\n",
       "      <td>False</td>\n",
       "      <td>False</td>\n",
       "      <td>False</td>\n",
       "      <td>False</td>\n",
       "      <td>False</td>\n",
       "      <td>False</td>\n",
       "      <td>False</td>\n",
       "      <td>False</td>\n",
       "      <td>False</td>\n",
       "    </tr>\n",
       "    <tr>\n",
       "      <th>2042</th>\n",
       "      <td>False</td>\n",
       "      <td>False</td>\n",
       "      <td>False</td>\n",
       "      <td>False</td>\n",
       "      <td>False</td>\n",
       "      <td>False</td>\n",
       "      <td>False</td>\n",
       "      <td>False</td>\n",
       "      <td>False</td>\n",
       "      <td>False</td>\n",
       "      <td>False</td>\n",
       "      <td>False</td>\n",
       "      <td>False</td>\n",
       "      <td>False</td>\n",
       "      <td>False</td>\n",
       "      <td>False</td>\n",
       "    </tr>\n",
       "    <tr>\n",
       "      <th>2043</th>\n",
       "      <td>False</td>\n",
       "      <td>False</td>\n",
       "      <td>False</td>\n",
       "      <td>False</td>\n",
       "      <td>False</td>\n",
       "      <td>False</td>\n",
       "      <td>False</td>\n",
       "      <td>False</td>\n",
       "      <td>False</td>\n",
       "      <td>False</td>\n",
       "      <td>False</td>\n",
       "      <td>False</td>\n",
       "      <td>False</td>\n",
       "      <td>False</td>\n",
       "      <td>False</td>\n",
       "      <td>False</td>\n",
       "    </tr>\n",
       "    <tr>\n",
       "      <th>2044</th>\n",
       "      <td>False</td>\n",
       "      <td>False</td>\n",
       "      <td>False</td>\n",
       "      <td>False</td>\n",
       "      <td>False</td>\n",
       "      <td>False</td>\n",
       "      <td>False</td>\n",
       "      <td>False</td>\n",
       "      <td>False</td>\n",
       "      <td>False</td>\n",
       "      <td>False</td>\n",
       "      <td>False</td>\n",
       "      <td>False</td>\n",
       "      <td>False</td>\n",
       "      <td>False</td>\n",
       "      <td>False</td>\n",
       "    </tr>\n",
       "    <tr>\n",
       "      <th>2045</th>\n",
       "      <td>False</td>\n",
       "      <td>False</td>\n",
       "      <td>False</td>\n",
       "      <td>False</td>\n",
       "      <td>False</td>\n",
       "      <td>False</td>\n",
       "      <td>False</td>\n",
       "      <td>False</td>\n",
       "      <td>False</td>\n",
       "      <td>False</td>\n",
       "      <td>False</td>\n",
       "      <td>False</td>\n",
       "      <td>False</td>\n",
       "      <td>False</td>\n",
       "      <td>False</td>\n",
       "      <td>False</td>\n",
       "    </tr>\n",
       "  </tbody>\n",
       "</table>\n",
       "<p>2046 rows × 16 columns</p>\n",
       "</div>"
      ],
      "text/plain": [
       "      SOURCE COUNTRY  DEPLOYMENT LOCATION  Data.Source  Latitude  Longitude  \\\n",
       "0              False                False        False     False      False   \n",
       "1              False                False        False     False      False   \n",
       "2              False                False        False     False      False   \n",
       "3              False                False        False     False      False   \n",
       "4              False                False        False     False      False   \n",
       "...              ...                  ...          ...       ...        ...   \n",
       "2041           False                False        False     False      False   \n",
       "2042           False                False        False     False      False   \n",
       "2043           False                False        False     False      False   \n",
       "2044           False                False        False     False      False   \n",
       "2045           False                False        False     False      False   \n",
       "\n",
       "      Data.Magnitude.Body  Data.Magnitude.Surface  Location.Cordinates.Depth  \\\n",
       "0                   False                   False                      False   \n",
       "1                   False                   False                      False   \n",
       "2                   False                   False                      False   \n",
       "3                   False                   False                      False   \n",
       "4                   False                   False                      False   \n",
       "...                   ...                     ...                        ...   \n",
       "2041                False                   False                      False   \n",
       "2042                False                   False                      False   \n",
       "2043                False                   False                      False   \n",
       "2044                False                   False                      False   \n",
       "2045                False                   False                      False   \n",
       "\n",
       "      Data.Yeild.Lower  Data.Yeild.Upper  Data.Purpose  Data.Name  Data.Type  \\\n",
       "0                False             False         False      False      False   \n",
       "1                False             False         False      False      False   \n",
       "2                False             False         False      False      False   \n",
       "3                False             False         False      False      False   \n",
       "4                False             False         False      False      False   \n",
       "...                ...               ...           ...        ...        ...   \n",
       "2041             False             False         False      False      False   \n",
       "2042             False             False         False      False      False   \n",
       "2043             False             False         False      False      False   \n",
       "2044             False             False         False      False      False   \n",
       "2045             False             False         False      False      False   \n",
       "\n",
       "        Day  Month   Year  \n",
       "0     False  False  False  \n",
       "1     False  False  False  \n",
       "2     False  False  False  \n",
       "3     False  False  False  \n",
       "4     False  False  False  \n",
       "...     ...    ...    ...  \n",
       "2041  False  False  False  \n",
       "2042  False  False  False  \n",
       "2043  False  False  False  \n",
       "2044  False  False  False  \n",
       "2045  False  False  False  \n",
       "\n",
       "[2046 rows x 16 columns]"
      ]
     },
     "execution_count": 6,
     "metadata": {},
     "output_type": "execute_result"
    }
   ],
   "source": [
    "explossion.isnull()"
   ]
  },
  {
   "cell_type": "code",
   "execution_count": 7,
   "id": "da656a68-9486-40d4-9c1e-8d6c1d1274f5",
   "metadata": {},
   "outputs": [
    {
     "data": {
      "text/plain": [
       "SOURCE COUNTRY               False\n",
       "DEPLOYMENT LOCATION          False\n",
       "Data.Source                  False\n",
       "Latitude                     False\n",
       "Longitude                    False\n",
       "Data.Magnitude.Body          False\n",
       "Data.Magnitude.Surface       False\n",
       "Location.Cordinates.Depth    False\n",
       "Data.Yeild.Lower             False\n",
       "Data.Yeild.Upper             False\n",
       "Data.Purpose                 False\n",
       "Data.Name                    False\n",
       "Data.Type                    False\n",
       "Day                          False\n",
       "Month                        False\n",
       "Year                         False\n",
       "dtype: bool"
      ]
     },
     "execution_count": 7,
     "metadata": {},
     "output_type": "execute_result"
    }
   ],
   "source": [
    "explossion.isna().any()"
   ]
  },
  {
   "cell_type": "code",
   "execution_count": 8,
   "id": "de695607-5429-4f5f-84ba-42f7f035849f",
   "metadata": {},
   "outputs": [
    {
     "data": {
      "text/plain": [
       "SOURCE COUNTRY               0\n",
       "DEPLOYMENT LOCATION          0\n",
       "Data.Source                  0\n",
       "Latitude                     0\n",
       "Longitude                    0\n",
       "Data.Magnitude.Body          0\n",
       "Data.Magnitude.Surface       0\n",
       "Location.Cordinates.Depth    0\n",
       "Data.Yeild.Lower             0\n",
       "Data.Yeild.Upper             0\n",
       "Data.Purpose                 0\n",
       "Data.Name                    0\n",
       "Data.Type                    0\n",
       "Day                          0\n",
       "Month                        0\n",
       "Year                         0\n",
       "dtype: int64"
      ]
     },
     "execution_count": 8,
     "metadata": {},
     "output_type": "execute_result"
    }
   ],
   "source": [
    "#count of missing value\n",
    "explossion.isna().sum()"
   ]
  },
  {
   "cell_type": "markdown",
   "id": "c56cf3d0-82f9-443b-a5e3-9d332d0a9f75",
   "metadata": {},
   "source": [
    "Duplicate"
   ]
  },
  {
   "cell_type": "code",
   "execution_count": 9,
   "id": "5e0fe869-82fc-4d11-9283-059e24f1b722",
   "metadata": {},
   "outputs": [
    {
     "data": {
      "text/plain": [
       "0       False\n",
       "1       False\n",
       "2       False\n",
       "3       False\n",
       "4       False\n",
       "        ...  \n",
       "2041    False\n",
       "2042    False\n",
       "2043    False\n",
       "2044    False\n",
       "2045    False\n",
       "Length: 2046, dtype: bool"
      ]
     },
     "execution_count": 9,
     "metadata": {},
     "output_type": "execute_result"
    }
   ],
   "source": [
    "explossion.duplicated()"
   ]
  },
  {
   "cell_type": "code",
   "execution_count": 10,
   "id": "3fe4695a-ae50-4e42-a1c5-77b7152cc556",
   "metadata": {},
   "outputs": [
    {
     "data": {
      "text/html": [
       "<div>\n",
       "<style scoped>\n",
       "    .dataframe tbody tr th:only-of-type {\n",
       "        vertical-align: middle;\n",
       "    }\n",
       "\n",
       "    .dataframe tbody tr th {\n",
       "        vertical-align: top;\n",
       "    }\n",
       "\n",
       "    .dataframe thead th {\n",
       "        text-align: right;\n",
       "    }\n",
       "</style>\n",
       "<table border=\"1\" class=\"dataframe\">\n",
       "  <thead>\n",
       "    <tr style=\"text-align: right;\">\n",
       "      <th></th>\n",
       "      <th>SOURCE COUNTRY</th>\n",
       "      <th>DEPLOYMENT LOCATION</th>\n",
       "      <th>Data.Source</th>\n",
       "      <th>Latitude</th>\n",
       "      <th>Longitude</th>\n",
       "      <th>Data.Magnitude.Body</th>\n",
       "      <th>Data.Magnitude.Surface</th>\n",
       "      <th>Location.Cordinates.Depth</th>\n",
       "      <th>Data.Yeild.Lower</th>\n",
       "      <th>Data.Yeild.Upper</th>\n",
       "      <th>Data.Purpose</th>\n",
       "      <th>Data.Name</th>\n",
       "      <th>Data.Type</th>\n",
       "      <th>Day</th>\n",
       "      <th>Month</th>\n",
       "      <th>Year</th>\n",
       "    </tr>\n",
       "  </thead>\n",
       "  <tbody>\n",
       "    <tr>\n",
       "      <th>352</th>\n",
       "      <td>USSR</td>\n",
       "      <td>Mtr Russ</td>\n",
       "      <td>MTM</td>\n",
       "      <td>48.0</td>\n",
       "      <td>46.0</td>\n",
       "      <td>0.0</td>\n",
       "      <td>0.0</td>\n",
       "      <td>0.0</td>\n",
       "      <td>1.200</td>\n",
       "      <td>1.2</td>\n",
       "      <td>We</td>\n",
       "      <td>Nan</td>\n",
       "      <td>Space</td>\n",
       "      <td>27</td>\n",
       "      <td>10</td>\n",
       "      <td>1961</td>\n",
       "    </tr>\n",
       "    <tr>\n",
       "      <th>1599</th>\n",
       "      <td>USSR</td>\n",
       "      <td>Semi Kazakh</td>\n",
       "      <td>MTM</td>\n",
       "      <td>50.0</td>\n",
       "      <td>78.0</td>\n",
       "      <td>0.0</td>\n",
       "      <td>0.0</td>\n",
       "      <td>0.0</td>\n",
       "      <td>0.001</td>\n",
       "      <td>20.0</td>\n",
       "      <td>Wr</td>\n",
       "      <td>Nan</td>\n",
       "      <td>Tunnel</td>\n",
       "      <td>5</td>\n",
       "      <td>12</td>\n",
       "      <td>1980</td>\n",
       "    </tr>\n",
       "    <tr>\n",
       "      <th>1789</th>\n",
       "      <td>USSR</td>\n",
       "      <td>Perm Russ</td>\n",
       "      <td>NOA</td>\n",
       "      <td>61.0</td>\n",
       "      <td>58.0</td>\n",
       "      <td>4.5</td>\n",
       "      <td>0.0</td>\n",
       "      <td>0.0</td>\n",
       "      <td>3.200</td>\n",
       "      <td>3.2</td>\n",
       "      <td>Pne</td>\n",
       "      <td>Geliy</td>\n",
       "      <td>Shaft</td>\n",
       "      <td>28</td>\n",
       "      <td>8</td>\n",
       "      <td>1984</td>\n",
       "    </tr>\n",
       "  </tbody>\n",
       "</table>\n",
       "</div>"
      ],
      "text/plain": [
       "     SOURCE COUNTRY DEPLOYMENT LOCATION Data.Source  Latitude  Longitude  \\\n",
       "352            USSR            Mtr Russ         MTM      48.0       46.0   \n",
       "1599           USSR         Semi Kazakh         MTM      50.0       78.0   \n",
       "1789           USSR           Perm Russ         NOA      61.0       58.0   \n",
       "\n",
       "      Data.Magnitude.Body  Data.Magnitude.Surface  Location.Cordinates.Depth  \\\n",
       "352                   0.0                     0.0                        0.0   \n",
       "1599                  0.0                     0.0                        0.0   \n",
       "1789                  4.5                     0.0                        0.0   \n",
       "\n",
       "      Data.Yeild.Lower  Data.Yeild.Upper Data.Purpose Data.Name Data.Type  \\\n",
       "352              1.200               1.2           We       Nan     Space   \n",
       "1599             0.001              20.0           Wr       Nan    Tunnel   \n",
       "1789             3.200               3.2          Pne     Geliy     Shaft   \n",
       "\n",
       "      Day  Month  Year  \n",
       "352    27     10  1961  \n",
       "1599    5     12  1980  \n",
       "1789   28      8  1984  "
      ]
     },
     "execution_count": 10,
     "metadata": {},
     "output_type": "execute_result"
    }
   ],
   "source": [
    "explossion[explossion.duplicated()]"
   ]
  },
  {
   "cell_type": "markdown",
   "id": "c2420ede-4981-44f5-a472-3a8aa99ad9e5",
   "metadata": {},
   "source": [
    "Unique"
   ]
  },
  {
   "cell_type": "code",
   "execution_count": 11,
   "id": "d17f46ef-f87d-4b7c-ad57-e89c425375d3",
   "metadata": {},
   "outputs": [
    {
     "data": {
      "text/plain": [
       "array(['DOE', 'MTM', 'UGS', 'ISC', 'DIS', 'SPA', 'ZAR', 'WTN', 'HFS',\n",
       "       'MTU', 'NRD', 'BKY', 'NOA'], dtype=object)"
      ]
     },
     "execution_count": 11,
     "metadata": {},
     "output_type": "execute_result"
    }
   ],
   "source": [
    "explossion['Data.Source'].unique()"
   ]
  },
  {
   "cell_type": "code",
   "execution_count": 12,
   "id": "b82f2cd3-ce7d-4dda-a6fe-da86a0a95ec6",
   "metadata": {},
   "outputs": [
    {
     "data": {
      "text/plain": [
       "13"
      ]
     },
     "execution_count": 12,
     "metadata": {},
     "output_type": "execute_result"
    }
   ],
   "source": [
    "len(explossion['Data.Source'].unique())"
   ]
  },
  {
   "cell_type": "markdown",
   "id": "b13fb4cb-d424-46d8-be28-105ed1e67c8c",
   "metadata": {},
   "source": [
    "Check data types of each column"
   ]
  },
  {
   "cell_type": "code",
   "execution_count": 13,
   "id": "e539732f-2401-4253-bbdc-d32faac68bb6",
   "metadata": {},
   "outputs": [
    {
     "data": {
      "text/plain": [
       "SOURCE COUNTRY                object\n",
       "DEPLOYMENT LOCATION           object\n",
       "Data.Source                   object\n",
       "Latitude                     float64\n",
       "Longitude                    float64\n",
       "Data.Magnitude.Body          float64\n",
       "Data.Magnitude.Surface       float64\n",
       "Location.Cordinates.Depth    float64\n",
       "Data.Yeild.Lower             float64\n",
       "Data.Yeild.Upper             float64\n",
       "Data.Purpose                  object\n",
       "Data.Name                     object\n",
       "Data.Type                     object\n",
       "Day                            int64\n",
       "Month                          int64\n",
       "Year                           int64\n",
       "dtype: object"
      ]
     },
     "execution_count": 13,
     "metadata": {},
     "output_type": "execute_result"
    }
   ],
   "source": [
    "explossion.dtypes"
   ]
  },
  {
   "cell_type": "raw",
   "id": "8a0ef9dc-096b-4b97-a737-9e9288ee8c08",
   "metadata": {},
   "source": [
    "Plot for following analysis"
   ]
  },
  {
   "cell_type": "markdown",
   "id": "10b3a19b-33d7-449b-b6d5-69bb66eb29c8",
   "metadata": {},
   "source": [
    "Country wise count of nuclear explosion"
   ]
  },
  {
   "cell_type": "code",
   "execution_count": 14,
   "id": "6d71207a-e0a7-4973-9205-8a0f0e7f6300",
   "metadata": {},
   "outputs": [
    {
     "data": {
      "image/png": "[encoded data removed]",
      "text/plain": [
       "<Figure size 432x288 with 1 Axes>"
      ]
     },
     "metadata": {
      "needs_background": "light"
     },
     "output_type": "display_data"
    }
   ],
   "source": [
    "sns.barplot(x='SOURCE COUNTRY',y='Data.Yeild.Upper',data=explossion);"
   ]
  },
  {
   "cell_type": "markdown",
   "id": "9666ffed-a4a7-47ff-a152-0acd0eeeb8dd",
   "metadata": {},
   "source": [
    "Deployment location count"
   ]
  },
  {
   "cell_type": "code",
   "execution_count": 15,
   "id": "54104b6a-0111-456e-855e-d1e7bc2d0368",
   "metadata": {},
   "outputs": [
    {
     "data": {
      "image/png": "[encoded data removed]",
      "text/plain": [
       "<Figure size 432x288 with 1 Axes>"
      ]
     },
     "metadata": {
      "needs_background": "light"
     },
     "output_type": "display_data"
    }
   ],
   "source": [
    "sns.barplot(x='DEPLOYMENT LOCATION',y='Data.Yeild.Upper',data=explossion);"
   ]
  },
  {
   "cell_type": "code",
   "execution_count": 16,
   "id": "053be198-0708-402f-9e76-16ba873a7b9c",
   "metadata": {},
   "outputs": [
    {
     "data": {
      "image/png": "[encoded data removed]",
      "text/plain": [
       "<Figure size 432x288 with 1 Axes>"
      ]
     },
     "metadata": {
      "needs_background": "light"
     },
     "output_type": "display_data"
    }
   ],
   "source": [
    "sns.barplot(x='DEPLOYMENT LOCATION',y='Data.Yeild.Upper',data=explossion, estimator=np.sum);"
   ]
  },
  {
   "cell_type": "markdown",
   "id": "164d6e44-7096-4229-af36-3657740da045",
   "metadata": {},
   "source": [
    "Year wise count"
   ]
  },
  {
   "cell_type": "code",
   "execution_count": 17,
   "id": "fc1357f5-4218-4e77-9b44-d8dcaec4973b",
   "metadata": {},
   "outputs": [
    {
     "data": {
      "image/png": "[encoded data removed]",
      "text/plain": [
       "<Figure size 432x288 with 1 Axes>"
      ]
     },
     "metadata": {
      "needs_background": "light"
     },
     "output_type": "display_data"
    }
   ],
   "source": [
    "sns.barplot(x='Year',y='Data.Yeild.Upper',data=explossion);"
   ]
  },
  {
   "cell_type": "markdown",
   "id": "ad7f6c84-4206-4c21-95e2-a2b9da66e9fe",
   "metadata": {},
   "source": [
    "Country wise average explosion yield"
   ]
  },
  {
   "cell_type": "code",
   "execution_count": 26,
   "id": "930afb22-d363-49a8-b65c-fc24f15fe1e8",
   "metadata": {},
   "outputs": [],
   "source": [
    "a = explossion.groupby('DEPLOYMENT LOCATION')['Data.Yeild.Lower'].mean()"
   ]
  },
  {
   "cell_type": "code",
   "execution_count": 27,
   "id": "ee3940e2-6111-472b-8a37-24a7b7593a5e",
   "metadata": {},
   "outputs": [
    {
     "data": {
      "text/plain": [
       "DEPLOYMENT LOCATION\n",
       "Alamogordo       21.000000\n",
       "Amchitka Ak     360.000000\n",
       "Arkhan Russ      14.225000\n",
       "Astrak Russ       8.126667\n",
       "Azgie Kazakh    103.000000\n",
       "                   ...    \n",
       "Ural Russ         2.300000\n",
       "Uzbek            30.000000\n",
       "W Kazakh          8.500000\n",
       "W Mururoa         0.000000\n",
       "Wsw Mururoa       0.000000\n",
       "Name: Data.Yeild.Lower, Length: 79, dtype: float64"
      ]
     },
     "execution_count": 27,
     "metadata": {},
     "output_type": "execute_result"
    }
   ],
   "source": [
    "a"
   ]
  },
  {
   "cell_type": "code",
   "execution_count": 28,
   "id": "18b7b0bb-03d9-425f-bc29-1cabefa1f216",
   "metadata": {},
   "outputs": [
    {
     "data": {
      "image/png": "[encoded data removed]",
      "text/plain": [
       "<Figure size 432x288 with 1 Axes>"
      ]
     },
     "metadata": {
      "needs_background": "light"
     },
     "output_type": "display_data"
    }
   ],
   "source": [
    "sns.barplot(x='DEPLOYMENT LOCATION',y=a,data=explossion);"
   ]
  },
  {
   "cell_type": "code",
   "execution_count": null,
   "id": "538114fa-b01c-4eda-81db-462b731f16bc",
   "metadata": {},
   "outputs": [],
   "source": []
  },
  {
   "cell_type": "code",
   "execution_count": 29,
   "id": "d6549d53-8462-4f7b-99af-9cf3786ace1f",
   "metadata": {},
   "outputs": [
    {
     "data": {
      "text/plain": [
       "79"
      ]
     },
     "execution_count": 29,
     "metadata": {},
     "output_type": "execute_result"
    }
   ],
   "source": [
    "x=explossion['DEPLOYMENT LOCATION']\n",
    "len(a)"
   ]
  },
  {
   "cell_type": "code",
   "execution_count": 30,
   "id": "b4fc8019-4eae-4f7b-b973-4d836796006e",
   "metadata": {},
   "outputs": [
    {
     "data": {
      "image/png": "[encoded data removed]",
      "text/plain": [
       "<Figure size 432x288 with 1 Axes>"
      ]
     },
     "metadata": {
      "needs_background": "light"
     },
     "output_type": "display_data"
    }
   ],
   "source": [
    "plt.plot(a)\n",
    "plt.show()"
   ]
  },
  {
   "cell_type": "markdown",
   "id": "3877e42e-049a-4f34-a55e-419da633ed91",
   "metadata": {},
   "source": [
    "Surface Type count"
   ]
  },
  {
   "cell_type": "code",
   "execution_count": 31,
   "id": "db920b4b-a75d-4a74-93ea-5fa41c9bec41",
   "metadata": {},
   "outputs": [
    {
     "data": {
      "text/plain": [
       "Data.Type\n",
       "Airdrop       0.0\n",
       "Atmosph       8.7\n",
       "Balloon       0.0\n",
       "Barge         0.0\n",
       "Crater        0.0\n",
       "Gallery       0.0\n",
       "Mine          0.0\n",
       "Rocket        0.0\n",
       "Shaft       566.3\n",
       "Shaft/Gr     18.1\n",
       "Shaft/Lg     17.6\n",
       "Ship          0.0\n",
       "Space         0.0\n",
       "Surface       0.0\n",
       "Tower         0.0\n",
       "Tunnel       97.8\n",
       "Ug           21.3\n",
       "Uw            0.0\n",
       "Water Su      0.0\n",
       "Watersur      0.0\n",
       "Name: Data.Magnitude.Surface, dtype: float64"
      ]
     },
     "execution_count": 31,
     "metadata": {},
     "output_type": "execute_result"
    }
   ],
   "source": [
    "a = explossion.groupby('Data.Type')['Data.Magnitude.Surface'].sum()\n",
    "a"
   ]
  },
  {
   "cell_type": "code",
   "execution_count": 32,
   "id": "93827725-2160-40ad-a3f4-f854d715826c",
   "metadata": {},
   "outputs": [
    {
     "data": {
      "image/png": "[encoded data removed]",
      "text/plain": [
       "<Figure size 432x288 with 1 Axes>"
      ]
     },
     "metadata": {
      "needs_background": "light"
     },
     "output_type": "display_data"
    }
   ],
   "source": [
    "plt.plot(a)\n",
    "plt.show()"
   ]
  },
  {
   "cell_type": "markdown",
   "id": "3ebe6c7b-b39b-4285-9bfa-eea2bbbddf41",
   "metadata": {},
   "source": [
    "Surface type average explosion yield"
   ]
  },
  {
   "cell_type": "code",
   "execution_count": 33,
   "id": "50ff9f48-6b2f-445d-9def-865fc560de82",
   "metadata": {},
   "outputs": [
    {
     "data": {
      "text/plain": [
       "Data.Magnitude.Surface\n",
       "0.0    222.647898\n",
       "3.0     10.166667\n",
       "3.1      8.500000\n",
       "3.2      8.500000\n",
       "3.4      3.750750\n",
       "3.5      5.334000\n",
       "3.6     10.000667\n",
       "3.7     12.500143\n",
       "3.8      8.714571\n",
       "4.0      7.500250\n",
       "4.1     27.750083\n",
       "4.2     29.048200\n",
       "4.3     28.182182\n",
       "4.4     19.555963\n",
       "4.5     33.250417\n",
       "4.6      6.667333\n",
       "4.7     31.250250\n",
       "4.9     13.333667\n",
       "5.0    162.000600\n",
       "5.1    150.000000\n",
       "5.2     39.000286\n",
       "5.3    404.000400\n",
       "5.4    200.000000\n",
       "5.5    475.000250\n",
       "5.7     10.000000\n",
       "6.0     20.000000\n",
       "Name: Data.Yeild.Lower, dtype: float64"
      ]
     },
     "execution_count": 33,
     "metadata": {},
     "output_type": "execute_result"
    }
   ],
   "source": [
    "a = explossion.groupby('Data.Magnitude.Surface')['Data.Yeild.Lower'].mean()\n",
    "a"
   ]
  },
  {
   "cell_type": "code",
   "execution_count": 34,
   "id": "24c33f70-c647-430e-a146-52208094af0b",
   "metadata": {},
   "outputs": [
    {
     "data": {
      "image/png": "[encoded data removed]",
      "text/plain": [
       "<Figure size 432x288 with 1 Axes>"
      ]
     },
     "metadata": {
      "needs_background": "light"
     },
     "output_type": "display_data"
    }
   ],
   "source": [
    "plt.plot(a)\n",
    "plt.show()"
   ]
  },
  {
   "cell_type": "code",
   "execution_count": null,
   "id": "5014caea-c5c9-4b0c-a4fa-3d78472178ac",
   "metadata": {},
   "outputs": [],
   "source": []
  },
  {
   "cell_type": "markdown",
   "id": "0a3d2815-652b-4762-ba7c-d118a53c7192",
   "metadata": {},
   "source": [
    "Correlation between yield and depth of nuclear test"
   ]
  },
  {
   "cell_type": "code",
   "execution_count": 38,
   "id": "8a41ff6c-845b-473f-85e5-18cfa71485ee",
   "metadata": {},
   "outputs": [
    {
     "data": {
      "text/html": [
       "<div>\n",
       "<style scoped>\n",
       "    .dataframe tbody tr th:only-of-type {\n",
       "        vertical-align: middle;\n",
       "    }\n",
       "\n",
       "    .dataframe tbody tr th {\n",
       "        vertical-align: top;\n",
       "    }\n",
       "\n",
       "    .dataframe thead th {\n",
       "        text-align: right;\n",
       "    }\n",
       "</style>\n",
       "<table border=\"1\" class=\"dataframe\">\n",
       "  <thead>\n",
       "    <tr style=\"text-align: right;\">\n",
       "      <th></th>\n",
       "      <th>Location.Cordinates.Depth</th>\n",
       "      <th>Data.Yeild.Lower</th>\n",
       "      <th>Data.Yeild.Upper</th>\n",
       "    </tr>\n",
       "  </thead>\n",
       "  <tbody>\n",
       "    <tr>\n",
       "      <th>0</th>\n",
       "      <td>-0.10</td>\n",
       "      <td>21.0</td>\n",
       "      <td>21.0</td>\n",
       "    </tr>\n",
       "    <tr>\n",
       "      <th>1</th>\n",
       "      <td>-0.60</td>\n",
       "      <td>15.0</td>\n",
       "      <td>15.0</td>\n",
       "    </tr>\n",
       "    <tr>\n",
       "      <th>2</th>\n",
       "      <td>-0.60</td>\n",
       "      <td>21.0</td>\n",
       "      <td>21.0</td>\n",
       "    </tr>\n",
       "    <tr>\n",
       "      <th>3</th>\n",
       "      <td>-0.20</td>\n",
       "      <td>21.0</td>\n",
       "      <td>21.0</td>\n",
       "    </tr>\n",
       "    <tr>\n",
       "      <th>4</th>\n",
       "      <td>0.03</td>\n",
       "      <td>21.0</td>\n",
       "      <td>21.0</td>\n",
       "    </tr>\n",
       "    <tr>\n",
       "      <th>...</th>\n",
       "      <td>...</td>\n",
       "      <td>...</td>\n",
       "      <td>...</td>\n",
       "    </tr>\n",
       "    <tr>\n",
       "      <th>2041</th>\n",
       "      <td>0.00</td>\n",
       "      <td>3.0</td>\n",
       "      <td>12.0</td>\n",
       "    </tr>\n",
       "    <tr>\n",
       "      <th>2042</th>\n",
       "      <td>0.00</td>\n",
       "      <td>0.0</td>\n",
       "      <td>20.0</td>\n",
       "    </tr>\n",
       "    <tr>\n",
       "      <th>2043</th>\n",
       "      <td>0.00</td>\n",
       "      <td>0.0</td>\n",
       "      <td>1.0</td>\n",
       "    </tr>\n",
       "    <tr>\n",
       "      <th>2044</th>\n",
       "      <td>0.00</td>\n",
       "      <td>0.0</td>\n",
       "      <td>35.0</td>\n",
       "    </tr>\n",
       "    <tr>\n",
       "      <th>2045</th>\n",
       "      <td>0.00</td>\n",
       "      <td>0.0</td>\n",
       "      <td>18.0</td>\n",
       "    </tr>\n",
       "  </tbody>\n",
       "</table>\n",
       "<p>2046 rows × 3 columns</p>\n",
       "</div>"
      ],
      "text/plain": [
       "      Location.Cordinates.Depth  Data.Yeild.Lower  Data.Yeild.Upper\n",
       "0                         -0.10              21.0              21.0\n",
       "1                         -0.60              15.0              15.0\n",
       "2                         -0.60              21.0              21.0\n",
       "3                         -0.20              21.0              21.0\n",
       "4                          0.03              21.0              21.0\n",
       "...                         ...               ...               ...\n",
       "2041                       0.00               3.0              12.0\n",
       "2042                       0.00               0.0              20.0\n",
       "2043                       0.00               0.0               1.0\n",
       "2044                       0.00               0.0              35.0\n",
       "2045                       0.00               0.0              18.0\n",
       "\n",
       "[2046 rows x 3 columns]"
      ]
     },
     "execution_count": 38,
     "metadata": {},
     "output_type": "execute_result"
    }
   ],
   "source": [
    "data = explossion[['Location.Cordinates.Depth', 'Data.Yeild.Lower', 'Data.Yeild.Upper']]\n",
    "data"
   ]
  },
  {
   "cell_type": "code",
   "execution_count": 39,
   "id": "8438994b-0155-4f00-b810-d136d11605d4",
   "metadata": {},
   "outputs": [
    {
     "data": {
      "text/html": [
       "<div>\n",
       "<style scoped>\n",
       "    .dataframe tbody tr th:only-of-type {\n",
       "        vertical-align: middle;\n",
       "    }\n",
       "\n",
       "    .dataframe tbody tr th {\n",
       "        vertical-align: top;\n",
       "    }\n",
       "\n",
       "    .dataframe thead th {\n",
       "        text-align: right;\n",
       "    }\n",
       "</style>\n",
       "<table border=\"1\" class=\"dataframe\">\n",
       "  <thead>\n",
       "    <tr style=\"text-align: right;\">\n",
       "      <th></th>\n",
       "      <th>Location.Cordinates.Depth</th>\n",
       "      <th>Data.Yeild.Lower</th>\n",
       "      <th>Data.Yeild.Upper</th>\n",
       "    </tr>\n",
       "  </thead>\n",
       "  <tbody>\n",
       "    <tr>\n",
       "      <th>Location.Cordinates.Depth</th>\n",
       "      <td>1.000000</td>\n",
       "      <td>-0.022988</td>\n",
       "      <td>-0.015579</td>\n",
       "    </tr>\n",
       "    <tr>\n",
       "      <th>Data.Yeild.Lower</th>\n",
       "      <td>-0.022988</td>\n",
       "      <td>1.000000</td>\n",
       "      <td>0.863148</td>\n",
       "    </tr>\n",
       "    <tr>\n",
       "      <th>Data.Yeild.Upper</th>\n",
       "      <td>-0.015579</td>\n",
       "      <td>0.863148</td>\n",
       "      <td>1.000000</td>\n",
       "    </tr>\n",
       "  </tbody>\n",
       "</table>\n",
       "</div>"
      ],
      "text/plain": [
       "                           Location.Cordinates.Depth  Data.Yeild.Lower  \\\n",
       "Location.Cordinates.Depth                   1.000000         -0.022988   \n",
       "Data.Yeild.Lower                           -0.022988          1.000000   \n",
       "Data.Yeild.Upper                           -0.015579          0.863148   \n",
       "\n",
       "                           Data.Yeild.Upper  \n",
       "Location.Cordinates.Depth         -0.015579  \n",
       "Data.Yeild.Lower                   0.863148  \n",
       "Data.Yeild.Upper                   1.000000  "
      ]
     },
     "execution_count": 39,
     "metadata": {},
     "output_type": "execute_result"
    }
   ],
   "source": [
    "data.corr()"
   ]
  },
  {
   "cell_type": "code",
   "execution_count": 40,
   "id": "0f77478f-2822-4be6-81f8-cce9ad63a387",
   "metadata": {},
   "outputs": [
    {
     "data": {
      "image/png": "[encoded data removed]",
      "text/plain": [
       "<Figure size 432x288 with 2 Axes>"
      ]
     },
     "metadata": {
      "needs_background": "light"
     },
     "output_type": "display_data"
    }
   ],
   "source": [
    "sns.heatmap(data.corr());"
   ]
  },
  {
   "cell_type": "markdown",
   "id": "a4531f48-bc83-48f2-826e-6766a15e3ff0",
   "metadata": {},
   "source": [
    "Box plot of all numeric variables"
   ]
  },
  {
   "cell_type": "code",
   "execution_count": 50,
   "id": "175b1134-c008-474c-bc9e-c99c2137378f",
   "metadata": {},
   "outputs": [
    {
     "data": {
      "text/html": [
       "<div>\n",
       "<style scoped>\n",
       "    .dataframe tbody tr th:only-of-type {\n",
       "        vertical-align: middle;\n",
       "    }\n",
       "\n",
       "    .dataframe tbody tr th {\n",
       "        vertical-align: top;\n",
       "    }\n",
       "\n",
       "    .dataframe thead th {\n",
       "        text-align: right;\n",
       "    }\n",
       "</style>\n",
       "<table border=\"1\" class=\"dataframe\">\n",
       "  <thead>\n",
       "    <tr style=\"text-align: right;\">\n",
       "      <th></th>\n",
       "      <th>Day</th>\n",
       "      <th>Month</th>\n",
       "    </tr>\n",
       "  </thead>\n",
       "  <tbody>\n",
       "    <tr>\n",
       "      <th>0</th>\n",
       "      <td>16</td>\n",
       "      <td>7</td>\n",
       "    </tr>\n",
       "    <tr>\n",
       "      <th>1</th>\n",
       "      <td>5</td>\n",
       "      <td>8</td>\n",
       "    </tr>\n",
       "    <tr>\n",
       "      <th>2</th>\n",
       "      <td>9</td>\n",
       "      <td>8</td>\n",
       "    </tr>\n",
       "    <tr>\n",
       "      <th>3</th>\n",
       "      <td>30</td>\n",
       "      <td>6</td>\n",
       "    </tr>\n",
       "    <tr>\n",
       "      <th>4</th>\n",
       "      <td>24</td>\n",
       "      <td>7</td>\n",
       "    </tr>\n",
       "    <tr>\n",
       "      <th>...</th>\n",
       "      <td>...</td>\n",
       "      <td>...</td>\n",
       "    </tr>\n",
       "    <tr>\n",
       "      <th>2041</th>\n",
       "      <td>29</td>\n",
       "      <td>7</td>\n",
       "    </tr>\n",
       "    <tr>\n",
       "      <th>2042</th>\n",
       "      <td>11</td>\n",
       "      <td>5</td>\n",
       "    </tr>\n",
       "    <tr>\n",
       "      <th>2043</th>\n",
       "      <td>13</td>\n",
       "      <td>5</td>\n",
       "    </tr>\n",
       "    <tr>\n",
       "      <th>2044</th>\n",
       "      <td>28</td>\n",
       "      <td>5</td>\n",
       "    </tr>\n",
       "    <tr>\n",
       "      <th>2045</th>\n",
       "      <td>30</td>\n",
       "      <td>5</td>\n",
       "    </tr>\n",
       "  </tbody>\n",
       "</table>\n",
       "<p>2046 rows × 2 columns</p>\n",
       "</div>"
      ],
      "text/plain": [
       "      Day  Month\n",
       "0      16      7\n",
       "1       5      8\n",
       "2       9      8\n",
       "3      30      6\n",
       "4      24      7\n",
       "...   ...    ...\n",
       "2041   29      7\n",
       "2042   11      5\n",
       "2043   13      5\n",
       "2044   28      5\n",
       "2045   30      5\n",
       "\n",
       "[2046 rows x 2 columns]"
      ]
     },
     "execution_count": 50,
     "metadata": {},
     "output_type": "execute_result"
    }
   ],
   "source": [
    "DATA = explossion[['Day', 'Month']]\n",
    "DATA"
   ]
  },
  {
   "cell_type": "code",
   "execution_count": 54,
   "id": "4129df8b-4f0e-4205-961f-6427c4dc1730",
   "metadata": {},
   "outputs": [
    {
     "data": {
      "image/png": "[encoded data removed]",
      "text/plain": [
       "<Figure size 432x288 with 1 Axes>"
      ]
     },
     "metadata": {
      "needs_background": "light"
     },
     "output_type": "display_data"
    }
   ],
   "source": [
    "plt.boxplot(DATA)\n",
    "plt.show()"
   ]
  },
  {
   "cell_type": "code",
   "execution_count": null,
   "id": "2915248d-6a45-48fe-90bc-dfada640dc59",
   "metadata": {},
   "outputs": [],
   "source": []
  },
  {
   "cell_type": "code",
   "execution_count": null,
   "id": "3951b1e0-9685-4050-8847-dfd913d0a905",
   "metadata": {},
   "outputs": [],
   "source": []
  },
  {
   "cell_type": "code",
   "execution_count": null,
   "id": "1a8ca401-6ffb-4075-9db4-b517093fd149",
   "metadata": {},
   "outputs": [],
   "source": []
  },
  {
   "cell_type": "markdown",
   "id": "729abb85-dff0-466d-bb5c-cc907f8841a4",
   "metadata": {},
   "source": [
    "Try adding 10 more random observations to the data in supervised learning flow\n",
    "\t Re perform training and testing\n",
    "\t Play with random_state and train_size \n",
    " Observe the accuracy of both the train and test\n"
   ]
  },
  {
   "cell_type": "code",
   "execution_count": 40,
   "id": "e2664151-0a3b-475c-859d-c49fc3eb11ba",
   "metadata": {},
   "outputs": [],
   "source": [
    "import random"
   ]
  },
  {
   "cell_type": "code",
   "execution_count": 69,
   "id": "b95032e1-f472-42a5-a43f-ebb7db06a321",
   "metadata": {},
   "outputs": [],
   "source": [
    "data = pd.DataFrame({'Redness' : [10, 4, 3.1, 9.5, 5.0, 9.8, 2.3, 3.1, 2.8, 6.3],\n",
    "'Roundness' : [4, 10, 13.1, .95, 8.0, 3.9, 12.3, 13.1, 10.1, 16.3],\n",
    "'Price' : [20, 13, 12, 19, 10, 15, 9.3, 8.1, 4.2, 8.7],\n",
    "'Fruit' : ['Apple', 'Orange', 'Orange', 'Apple', 'Orange','Apple', 'Orange', 'Orange', 'Orange', 'Apple']\n",
    "})"
   ]
  },
  {
   "cell_type": "code",
   "execution_count": 70,
   "id": "e0e0d79a-10f9-4bfc-aab4-403301541c95",
   "metadata": {},
   "outputs": [
    {
     "data": {
      "text/html": [
       "<div>\n",
       "<style scoped>\n",
       "    .dataframe tbody tr th:only-of-type {\n",
       "        vertical-align: middle;\n",
       "    }\n",
       "\n",
       "    .dataframe tbody tr th {\n",
       "        vertical-align: top;\n",
       "    }\n",
       "\n",
       "    .dataframe thead th {\n",
       "        text-align: right;\n",
       "    }\n",
       "</style>\n",
       "<table border=\"1\" class=\"dataframe\">\n",
       "  <thead>\n",
       "    <tr style=\"text-align: right;\">\n",
       "      <th></th>\n",
       "      <th>Redness</th>\n",
       "      <th>Roundness</th>\n",
       "      <th>Price</th>\n",
       "      <th>Fruit</th>\n",
       "    </tr>\n",
       "  </thead>\n",
       "  <tbody>\n",
       "    <tr>\n",
       "      <th>0</th>\n",
       "      <td>10.0</td>\n",
       "      <td>4.00</td>\n",
       "      <td>20.0</td>\n",
       "      <td>Apple</td>\n",
       "    </tr>\n",
       "    <tr>\n",
       "      <th>1</th>\n",
       "      <td>4.0</td>\n",
       "      <td>10.00</td>\n",
       "      <td>13.0</td>\n",
       "      <td>Orange</td>\n",
       "    </tr>\n",
       "    <tr>\n",
       "      <th>2</th>\n",
       "      <td>3.1</td>\n",
       "      <td>13.10</td>\n",
       "      <td>12.0</td>\n",
       "      <td>Orange</td>\n",
       "    </tr>\n",
       "    <tr>\n",
       "      <th>3</th>\n",
       "      <td>9.5</td>\n",
       "      <td>0.95</td>\n",
       "      <td>19.0</td>\n",
       "      <td>Apple</td>\n",
       "    </tr>\n",
       "    <tr>\n",
       "      <th>4</th>\n",
       "      <td>5.0</td>\n",
       "      <td>8.00</td>\n",
       "      <td>10.0</td>\n",
       "      <td>Orange</td>\n",
       "    </tr>\n",
       "    <tr>\n",
       "      <th>5</th>\n",
       "      <td>9.8</td>\n",
       "      <td>3.90</td>\n",
       "      <td>15.0</td>\n",
       "      <td>Apple</td>\n",
       "    </tr>\n",
       "    <tr>\n",
       "      <th>6</th>\n",
       "      <td>2.3</td>\n",
       "      <td>12.30</td>\n",
       "      <td>9.3</td>\n",
       "      <td>Orange</td>\n",
       "    </tr>\n",
       "    <tr>\n",
       "      <th>7</th>\n",
       "      <td>3.1</td>\n",
       "      <td>13.10</td>\n",
       "      <td>8.1</td>\n",
       "      <td>Orange</td>\n",
       "    </tr>\n",
       "    <tr>\n",
       "      <th>8</th>\n",
       "      <td>2.8</td>\n",
       "      <td>10.10</td>\n",
       "      <td>4.2</td>\n",
       "      <td>Orange</td>\n",
       "    </tr>\n",
       "    <tr>\n",
       "      <th>9</th>\n",
       "      <td>6.3</td>\n",
       "      <td>16.30</td>\n",
       "      <td>8.7</td>\n",
       "      <td>Apple</td>\n",
       "    </tr>\n",
       "  </tbody>\n",
       "</table>\n",
       "</div>"
      ],
      "text/plain": [
       "   Redness  Roundness  Price   Fruit\n",
       "0     10.0       4.00   20.0   Apple\n",
       "1      4.0      10.00   13.0  Orange\n",
       "2      3.1      13.10   12.0  Orange\n",
       "3      9.5       0.95   19.0   Apple\n",
       "4      5.0       8.00   10.0  Orange\n",
       "5      9.8       3.90   15.0   Apple\n",
       "6      2.3      12.30    9.3  Orange\n",
       "7      3.1      13.10    8.1  Orange\n",
       "8      2.8      10.10    4.2  Orange\n",
       "9      6.3      16.30    8.7   Apple"
      ]
     },
     "execution_count": 70,
     "metadata": {},
     "output_type": "execute_result"
    }
   ],
   "source": [
    "data"
   ]
  },
  {
   "cell_type": "code",
   "execution_count": 71,
   "id": "a1b7c20d-8459-43d3-a891-faa2c9b12bf0",
   "metadata": {},
   "outputs": [],
   "source": [
    "Fruit = data['Fruit'].unique()"
   ]
  },
  {
   "cell_type": "code",
   "execution_count": 72,
   "id": "4ccfdb3f-47be-48f4-b5e3-487eedfb4aa3",
   "metadata": {},
   "outputs": [],
   "source": [
    "for _ in range(10):\n",
    "    l = [np.random.rand(1)[0], np.random.rand(1)[0], np.random.rand(1)[0], random.choice(Fruit)]\n",
    "    data.loc[len(data)] = l"
   ]
  },
  {
   "cell_type": "code",
   "execution_count": 73,
   "id": "68ff6c85-59ea-4c24-a665-1728ea07574d",
   "metadata": {},
   "outputs": [
    {
     "data": {
      "text/html": [
       "<div>\n",
       "<style scoped>\n",
       "    .dataframe tbody tr th:only-of-type {\n",
       "        vertical-align: middle;\n",
       "    }\n",
       "\n",
       "    .dataframe tbody tr th {\n",
       "        vertical-align: top;\n",
       "    }\n",
       "\n",
       "    .dataframe thead th {\n",
       "        text-align: right;\n",
       "    }\n",
       "</style>\n",
       "<table border=\"1\" class=\"dataframe\">\n",
       "  <thead>\n",
       "    <tr style=\"text-align: right;\">\n",
       "      <th></th>\n",
       "      <th>Redness</th>\n",
       "      <th>Roundness</th>\n",
       "      <th>Price</th>\n",
       "      <th>Fruit</th>\n",
       "    </tr>\n",
       "  </thead>\n",
       "  <tbody>\n",
       "    <tr>\n",
       "      <th>0</th>\n",
       "      <td>10.000000</td>\n",
       "      <td>4.000000</td>\n",
       "      <td>20.000000</td>\n",
       "      <td>Apple</td>\n",
       "    </tr>\n",
       "    <tr>\n",
       "      <th>1</th>\n",
       "      <td>4.000000</td>\n",
       "      <td>10.000000</td>\n",
       "      <td>13.000000</td>\n",
       "      <td>Orange</td>\n",
       "    </tr>\n",
       "    <tr>\n",
       "      <th>2</th>\n",
       "      <td>3.100000</td>\n",
       "      <td>13.100000</td>\n",
       "      <td>12.000000</td>\n",
       "      <td>Orange</td>\n",
       "    </tr>\n",
       "    <tr>\n",
       "      <th>3</th>\n",
       "      <td>9.500000</td>\n",
       "      <td>0.950000</td>\n",
       "      <td>19.000000</td>\n",
       "      <td>Apple</td>\n",
       "    </tr>\n",
       "    <tr>\n",
       "      <th>4</th>\n",
       "      <td>5.000000</td>\n",
       "      <td>8.000000</td>\n",
       "      <td>10.000000</td>\n",
       "      <td>Orange</td>\n",
       "    </tr>\n",
       "    <tr>\n",
       "      <th>5</th>\n",
       "      <td>9.800000</td>\n",
       "      <td>3.900000</td>\n",
       "      <td>15.000000</td>\n",
       "      <td>Apple</td>\n",
       "    </tr>\n",
       "    <tr>\n",
       "      <th>6</th>\n",
       "      <td>2.300000</td>\n",
       "      <td>12.300000</td>\n",
       "      <td>9.300000</td>\n",
       "      <td>Orange</td>\n",
       "    </tr>\n",
       "    <tr>\n",
       "      <th>7</th>\n",
       "      <td>3.100000</td>\n",
       "      <td>13.100000</td>\n",
       "      <td>8.100000</td>\n",
       "      <td>Orange</td>\n",
       "    </tr>\n",
       "    <tr>\n",
       "      <th>8</th>\n",
       "      <td>2.800000</td>\n",
       "      <td>10.100000</td>\n",
       "      <td>4.200000</td>\n",
       "      <td>Orange</td>\n",
       "    </tr>\n",
       "    <tr>\n",
       "      <th>9</th>\n",
       "      <td>6.300000</td>\n",
       "      <td>16.300000</td>\n",
       "      <td>8.700000</td>\n",
       "      <td>Apple</td>\n",
       "    </tr>\n",
       "    <tr>\n",
       "      <th>10</th>\n",
       "      <td>0.005483</td>\n",
       "      <td>0.264945</td>\n",
       "      <td>0.715011</td>\n",
       "      <td>Orange</td>\n",
       "    </tr>\n",
       "    <tr>\n",
       "      <th>11</th>\n",
       "      <td>0.146273</td>\n",
       "      <td>0.782256</td>\n",
       "      <td>0.853272</td>\n",
       "      <td>Apple</td>\n",
       "    </tr>\n",
       "    <tr>\n",
       "      <th>12</th>\n",
       "      <td>0.497904</td>\n",
       "      <td>0.598769</td>\n",
       "      <td>0.994204</td>\n",
       "      <td>Orange</td>\n",
       "    </tr>\n",
       "    <tr>\n",
       "      <th>13</th>\n",
       "      <td>0.505118</td>\n",
       "      <td>0.530076</td>\n",
       "      <td>0.407973</td>\n",
       "      <td>Orange</td>\n",
       "    </tr>\n",
       "    <tr>\n",
       "      <th>14</th>\n",
       "      <td>0.085095</td>\n",
       "      <td>0.805407</td>\n",
       "      <td>0.734855</td>\n",
       "      <td>Apple</td>\n",
       "    </tr>\n",
       "    <tr>\n",
       "      <th>15</th>\n",
       "      <td>0.317512</td>\n",
       "      <td>0.821843</td>\n",
       "      <td>0.912842</td>\n",
       "      <td>Apple</td>\n",
       "    </tr>\n",
       "    <tr>\n",
       "      <th>16</th>\n",
       "      <td>0.511033</td>\n",
       "      <td>0.881443</td>\n",
       "      <td>0.663093</td>\n",
       "      <td>Apple</td>\n",
       "    </tr>\n",
       "    <tr>\n",
       "      <th>17</th>\n",
       "      <td>0.074015</td>\n",
       "      <td>0.861233</td>\n",
       "      <td>0.323819</td>\n",
       "      <td>Apple</td>\n",
       "    </tr>\n",
       "    <tr>\n",
       "      <th>18</th>\n",
       "      <td>0.614956</td>\n",
       "      <td>0.463192</td>\n",
       "      <td>0.993864</td>\n",
       "      <td>Orange</td>\n",
       "    </tr>\n",
       "    <tr>\n",
       "      <th>19</th>\n",
       "      <td>0.919731</td>\n",
       "      <td>0.280479</td>\n",
       "      <td>0.348815</td>\n",
       "      <td>Orange</td>\n",
       "    </tr>\n",
       "  </tbody>\n",
       "</table>\n",
       "</div>"
      ],
      "text/plain": [
       "      Redness  Roundness      Price   Fruit\n",
       "0   10.000000   4.000000  20.000000   Apple\n",
       "1    4.000000  10.000000  13.000000  Orange\n",
       "2    3.100000  13.100000  12.000000  Orange\n",
       "3    9.500000   0.950000  19.000000   Apple\n",
       "4    5.000000   8.000000  10.000000  Orange\n",
       "5    9.800000   3.900000  15.000000   Apple\n",
       "6    2.300000  12.300000   9.300000  Orange\n",
       "7    3.100000  13.100000   8.100000  Orange\n",
       "8    2.800000  10.100000   4.200000  Orange\n",
       "9    6.300000  16.300000   8.700000   Apple\n",
       "10   0.005483   0.264945   0.715011  Orange\n",
       "11   0.146273   0.782256   0.853272   Apple\n",
       "12   0.497904   0.598769   0.994204  Orange\n",
       "13   0.505118   0.530076   0.407973  Orange\n",
       "14   0.085095   0.805407   0.734855   Apple\n",
       "15   0.317512   0.821843   0.912842   Apple\n",
       "16   0.511033   0.881443   0.663093   Apple\n",
       "17   0.074015   0.861233   0.323819   Apple\n",
       "18   0.614956   0.463192   0.993864  Orange\n",
       "19   0.919731   0.280479   0.348815  Orange"
      ]
     },
     "execution_count": 73,
     "metadata": {},
     "output_type": "execute_result"
    }
   ],
   "source": [
    "data"
   ]
  },
  {
   "cell_type": "code",
   "execution_count": 74,
   "id": "50b33312-8b29-4b22-9144-1f6e0782f334",
   "metadata": {},
   "outputs": [],
   "source": [
    "features = data.drop('Fruit', axis = 1)\n",
    "target = data[['Fruit']]"
   ]
  },
  {
   "cell_type": "code",
   "execution_count": 82,
   "id": "26181deb-cc2e-488f-a3c1-343c9043b4ed",
   "metadata": {},
   "outputs": [],
   "source": [
    "from sklearn.model_selection import train_test_split\n",
    "X_train, X_test, y_train, y_test = train_test_split(features, target, random_state=30, train_size=0.7)"
   ]
  },
  {
   "cell_type": "code",
   "execution_count": 76,
   "id": "17e3d620-9374-4c05-9085-a4da4a769734",
   "metadata": {},
   "outputs": [
    {
     "data": {
      "text/html": [
       "<div>\n",
       "<style scoped>\n",
       "    .dataframe tbody tr th:only-of-type {\n",
       "        vertical-align: middle;\n",
       "    }\n",
       "\n",
       "    .dataframe tbody tr th {\n",
       "        vertical-align: top;\n",
       "    }\n",
       "\n",
       "    .dataframe thead th {\n",
       "        text-align: right;\n",
       "    }\n",
       "</style>\n",
       "<table border=\"1\" class=\"dataframe\">\n",
       "  <thead>\n",
       "    <tr style=\"text-align: right;\">\n",
       "      <th></th>\n",
       "      <th>Redness</th>\n",
       "      <th>Roundness</th>\n",
       "      <th>Price</th>\n",
       "    </tr>\n",
       "  </thead>\n",
       "  <tbody>\n",
       "    <tr>\n",
       "      <th>10</th>\n",
       "      <td>0.005483</td>\n",
       "      <td>0.264945</td>\n",
       "      <td>0.715011</td>\n",
       "    </tr>\n",
       "    <tr>\n",
       "      <th>8</th>\n",
       "      <td>2.800000</td>\n",
       "      <td>10.100000</td>\n",
       "      <td>4.200000</td>\n",
       "    </tr>\n",
       "    <tr>\n",
       "      <th>16</th>\n",
       "      <td>0.511033</td>\n",
       "      <td>0.881443</td>\n",
       "      <td>0.663093</td>\n",
       "    </tr>\n",
       "    <tr>\n",
       "      <th>3</th>\n",
       "      <td>9.500000</td>\n",
       "      <td>0.950000</td>\n",
       "      <td>19.000000</td>\n",
       "    </tr>\n",
       "    <tr>\n",
       "      <th>1</th>\n",
       "      <td>4.000000</td>\n",
       "      <td>10.000000</td>\n",
       "      <td>13.000000</td>\n",
       "    </tr>\n",
       "    <tr>\n",
       "      <th>18</th>\n",
       "      <td>0.614956</td>\n",
       "      <td>0.463192</td>\n",
       "      <td>0.993864</td>\n",
       "    </tr>\n",
       "    <tr>\n",
       "      <th>2</th>\n",
       "      <td>3.100000</td>\n",
       "      <td>13.100000</td>\n",
       "      <td>12.000000</td>\n",
       "    </tr>\n",
       "    <tr>\n",
       "      <th>7</th>\n",
       "      <td>3.100000</td>\n",
       "      <td>13.100000</td>\n",
       "      <td>8.100000</td>\n",
       "    </tr>\n",
       "    <tr>\n",
       "      <th>12</th>\n",
       "      <td>0.497904</td>\n",
       "      <td>0.598769</td>\n",
       "      <td>0.994204</td>\n",
       "    </tr>\n",
       "    <tr>\n",
       "      <th>4</th>\n",
       "      <td>5.000000</td>\n",
       "      <td>8.000000</td>\n",
       "      <td>10.000000</td>\n",
       "    </tr>\n",
       "    <tr>\n",
       "      <th>17</th>\n",
       "      <td>0.074015</td>\n",
       "      <td>0.861233</td>\n",
       "      <td>0.323819</td>\n",
       "    </tr>\n",
       "    <tr>\n",
       "      <th>13</th>\n",
       "      <td>0.505118</td>\n",
       "      <td>0.530076</td>\n",
       "      <td>0.407973</td>\n",
       "    </tr>\n",
       "    <tr>\n",
       "      <th>19</th>\n",
       "      <td>0.919731</td>\n",
       "      <td>0.280479</td>\n",
       "      <td>0.348815</td>\n",
       "    </tr>\n",
       "    <tr>\n",
       "      <th>5</th>\n",
       "      <td>9.800000</td>\n",
       "      <td>3.900000</td>\n",
       "      <td>15.000000</td>\n",
       "    </tr>\n",
       "  </tbody>\n",
       "</table>\n",
       "</div>"
      ],
      "text/plain": [
       "     Redness  Roundness      Price\n",
       "10  0.005483   0.264945   0.715011\n",
       "8   2.800000  10.100000   4.200000\n",
       "16  0.511033   0.881443   0.663093\n",
       "3   9.500000   0.950000  19.000000\n",
       "1   4.000000  10.000000  13.000000\n",
       "18  0.614956   0.463192   0.993864\n",
       "2   3.100000  13.100000  12.000000\n",
       "7   3.100000  13.100000   8.100000\n",
       "12  0.497904   0.598769   0.994204\n",
       "4   5.000000   8.000000  10.000000\n",
       "17  0.074015   0.861233   0.323819\n",
       "13  0.505118   0.530076   0.407973\n",
       "19  0.919731   0.280479   0.348815\n",
       "5   9.800000   3.900000  15.000000"
      ]
     },
     "execution_count": 76,
     "metadata": {},
     "output_type": "execute_result"
    }
   ],
   "source": [
    "X_train"
   ]
  },
  {
   "cell_type": "code",
   "execution_count": 77,
   "id": "e1a1da70-bfeb-44de-bd60-ca51bd793717",
   "metadata": {},
   "outputs": [],
   "source": [
    "from sklearn.tree import DecisionTreeClassifier"
   ]
  },
  {
   "cell_type": "code",
   "execution_count": 84,
   "id": "f85d8c77-2307-4f00-8a41-96dbb326b83a",
   "metadata": {},
   "outputs": [
    {
     "data": {
      "text/html": [
       "<style>#sk-container-id-2 {color: black;background-color: white;}#sk-container-id-2 pre{padding: 0;}#sk-container-id-2 div.sk-toggleable {background-color: white;}#sk-container-id-2 label.sk-toggleable__label {cursor: pointer;display: block;width: 100%;margin-bottom: 0;padding: 0.3em;box-sizing: border-box;text-align: center;}#sk-container-id-2 label.sk-toggleable__label-arrow:before {content: \"▸\";float: left;margin-right: 0.25em;color: #696969;}#sk-container-id-2 label.sk-toggleable__label-arrow:hover:before {color: black;}#sk-container-id-2 div.sk-estimator:hover label.sk-toggleable__label-arrow:before {color: black;}#sk-container-id-2 div.sk-toggleable__content {max-height: 0;max-width: 0;overflow: hidden;text-align: left;background-color: #f0f8ff;}#sk-container-id-2 div.sk-toggleable__content pre {margin: 0.2em;color: black;border-radius: 0.25em;background-color: #f0f8ff;}#sk-container-id-2 input.sk-toggleable__control:checked~div.sk-toggleable__content {max-height: 200px;max-width: 100%;overflow: auto;}#sk-container-id-2 input.sk-toggleable__control:checked~label.sk-toggleable__label-arrow:before {content: \"▾\";}#sk-container-id-2 div.sk-estimator input.sk-toggleable__control:checked~label.sk-toggleable__label {background-color: #d4ebff;}#sk-container-id-2 div.sk-label input.sk-toggleable__control:checked~label.sk-toggleable__label {background-color: #d4ebff;}#sk-container-id-2 input.sk-hidden--visually {border: 0;clip: rect(1px 1px 1px 1px);clip: rect(1px, 1px, 1px, 1px);height: 1px;margin: -1px;overflow: hidden;padding: 0;position: absolute;width: 1px;}#sk-container-id-2 div.sk-estimator {font-family: monospace;background-color: #f0f8ff;border: 1px dotted black;border-radius: 0.25em;box-sizing: border-box;margin-bottom: 0.5em;}#sk-container-id-2 div.sk-estimator:hover {background-color: #d4ebff;}#sk-container-id-2 div.sk-parallel-item::after {content: \"\";width: 100%;border-bottom: 1px solid gray;flex-grow: 1;}#sk-container-id-2 div.sk-label:hover label.sk-toggleable__label {background-color: #d4ebff;}#sk-container-id-2 div.sk-serial::before {content: \"\";position: absolute;border-left: 1px solid gray;box-sizing: border-box;top: 0;bottom: 0;left: 50%;z-index: 0;}#sk-container-id-2 div.sk-serial {display: flex;flex-direction: column;align-items: center;background-color: white;padding-right: 0.2em;padding-left: 0.2em;position: relative;}#sk-container-id-2 div.sk-item {position: relative;z-index: 1;}#sk-container-id-2 div.sk-parallel {display: flex;align-items: stretch;justify-content: center;background-color: white;position: relative;}#sk-container-id-2 div.sk-item::before, #sk-container-id-2 div.sk-parallel-item::before {content: \"\";position: absolute;border-left: 1px solid gray;box-sizing: border-box;top: 0;bottom: 0;left: 50%;z-index: -1;}#sk-container-id-2 div.sk-parallel-item {display: flex;flex-direction: column;z-index: 1;position: relative;background-color: white;}#sk-container-id-2 div.sk-parallel-item:first-child::after {align-self: flex-end;width: 50%;}#sk-container-id-2 div.sk-parallel-item:last-child::after {align-self: flex-start;width: 50%;}#sk-container-id-2 div.sk-parallel-item:only-child::after {width: 0;}#sk-container-id-2 div.sk-dashed-wrapped {border: 1px dashed gray;margin: 0 0.4em 0.5em 0.4em;box-sizing: border-box;padding-bottom: 0.4em;background-color: white;}#sk-container-id-2 div.sk-label label {font-family: monospace;font-weight: bold;display: inline-block;line-height: 1.2em;}#sk-container-id-2 div.sk-label-container {text-align: center;}#sk-container-id-2 div.sk-container {/* jupyter's `normalize.less` sets `[hidden] { display: none; }` but bootstrap.min.css set `[hidden] { display: none !important; }` so we also need the `!important` here to be able to override the default hidden behavior on the sphinx rendered scikit-learn.org. See: https://github.com/scikit-learn/scikit-learn/issues/21755 */display: inline-block !important;position: relative;}#sk-container-id-2 div.sk-text-repr-fallback {display: none;}</style><div id=\"sk-container-id-2\" class=\"sk-top-container\"><div class=\"sk-text-repr-fallback\"><pre>DecisionTreeClassifier()</pre><b>In a Jupyter environment, please rerun this cell to show the HTML representation or trust the notebook. <br />On GitHub, the HTML representation is unable to render, please try loading this page with nbviewer.org.</b></div><div class=\"sk-container\" hidden><div class=\"sk-item\"><div class=\"sk-estimator sk-toggleable\"><input class=\"sk-toggleable__control sk-hidden--visually\" id=\"sk-estimator-id-2\" type=\"checkbox\" checked><label for=\"sk-estimator-id-2\" class=\"sk-toggleable__label sk-toggleable__label-arrow\">DecisionTreeClassifier</label><div class=\"sk-toggleable__content\"><pre>DecisionTreeClassifier()</pre></div></div></div></div></div>"
      ],
      "text/plain": [
       "DecisionTreeClassifier()"
      ]
     },
     "execution_count": 84,
     "metadata": {},
     "output_type": "execute_result"
    }
   ],
   "source": [
    "my_model = DecisionTreeClassifier()\n",
    "my_model.fit(X_train, y_train)"
   ]
  },
  {
   "cell_type": "code",
   "execution_count": 85,
   "id": "bba83765-dd83-4d02-9680-a1f7ac6032aa",
   "metadata": {},
   "outputs": [],
   "source": [
    "#Testing means pass on the unseen hidden test set to the model and ask it to do predictions\n",
    "y_pred = my_model.predict(X_test)"
   ]
  },
  {
   "cell_type": "code",
   "execution_count": 86,
   "id": "d2d94b0d-b9e9-4b39-8b15-cc109bb928cd",
   "metadata": {},
   "outputs": [
    {
     "data": {
      "text/plain": [
       "0.3333333333333333"
      ]
     },
     "execution_count": 86,
     "metadata": {},
     "output_type": "execute_result"
    }
   ],
   "source": [
    "from sklearn.metrics import accuracy_score\n",
    "\n",
    "accuracy_score(y_pred, y_test)"
   ]
  },
  {
   "cell_type": "code",
   "execution_count": null,
   "id": "84a53108-de5f-4d15-b04f-d2eb8bbf4bb7",
   "metadata": {},
   "outputs": [],
   "source": []
  }
 ],
 "metadata": {
  "kernelspec": {
   "display_name": "Python 3 [3.10]",
   "language": "python",
   "name": "python3"
  },
  "language_info": {
   "codemirror_mode": {
    "name": "ipython",
    "version": 3
   },
   "file_extension": ".py",
   "mimetype": "text/x-python",
   "name": "python",
   "nbconvert_exporter": "python",
   "pygments_lexer": "ipython3",
   "version": "3.10.2"
  }
 },
 "nbformat": 4,
 "nbformat_minor": 5
}
